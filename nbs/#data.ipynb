{
 "cells": [
  {
   "cell_type": "code",
   "execution_count": 1,
   "id": "1fc0e675",
   "metadata": {},
   "outputs": [],
   "source": [
    "#|default_exp data"
   ]
  },
  {
   "cell_type": "code",
   "execution_count": 6,
   "id": "7229629f",
   "metadata": {},
   "outputs": [],
   "source": [
    "#|export\n",
    "import fastcore.all as fc"
   ]
  },
  {
   "cell_type": "code",
   "execution_count": 7,
   "id": "188dc95f",
   "metadata": {},
   "outputs": [],
   "source": [
    "#|export\n",
    "class Dataset():\n",
    "    def __init__(self, x, y): self.x = x; self.y = y\n",
    "    def __getitem__(self, idx): return (self.x[idx], self.y[idx])\n",
    "    def __len__(self): return len(self.y)"
   ]
  },
  {
   "cell_type": "code",
   "execution_count": 8,
   "id": "933c56c8",
   "metadata": {},
   "outputs": [],
   "source": [
    "#|export\n",
    "class DataLoaders:\n",
    "    def __init__(self, train, valid): fc.store_attr()"
   ]
  },
  {
   "cell_type": "code",
   "execution_count": null,
   "id": "96dd5364",
   "metadata": {},
   "outputs": [],
   "source": []
  },
  {
   "cell_type": "code",
   "execution_count": 10,
   "id": "29ee6356",
   "metadata": {},
   "outputs": [],
   "source": [
    "import nbdev; nbdev.nbdev_export()"
   ]
  },
  {
   "cell_type": "code",
   "execution_count": null,
   "id": "8172a555",
   "metadata": {},
   "outputs": [],
   "source": []
  }
 ],
 "metadata": {
  "kernelspec": {
   "display_name": "Python 3 (ipykernel)",
   "language": "python",
   "name": "python3"
  },
  "language_info": {
   "codemirror_mode": {
    "name": "ipython",
    "version": 3
   },
   "file_extension": ".py",
   "mimetype": "text/x-python",
   "name": "python",
   "nbconvert_exporter": "python",
   "pygments_lexer": "ipython3",
   "version": "3.10.10"
  }
 },
 "nbformat": 4,
 "nbformat_minor": 5
}
