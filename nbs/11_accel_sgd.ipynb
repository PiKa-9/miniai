{
 "cells": [
  {
   "cell_type": "code",
   "execution_count": 2,
   "id": "2b284b45",
   "metadata": {},
   "outputs": [],
   "source": [
    "import numpy as np, pandas as pd, matplotlib.pyplot as plt, matplotlib as mpl, seaborn as sns\n",
    "import torch, torch.nn as nn, torch.nn.functional as F\n",
    "from torch import tensor\n",
    "from torch.utils.data import DataLoader\n",
    "from torcheval.metrics import MulticlassAccuracy\n",
    "from torch.optim import lr_scheduler\n",
    "import sys, traceback, gc\n",
    "import fastcore.all as fc\n",
    "from functools import partial\n",
    "\n",
    "from miniai.data import *\n",
    "from miniai.learner import TrainLearner, MomentumLearner\n",
    "from miniai.callbacks import *\n",
    "from miniai.hooks import *\n",
    "from miniai.custom_modules import conv, GeneralReLU\n",
    "from miniai.plotting import subplots\n",
    "\n",
    "sns.set()"
   ]
  },
  {
   "cell_type": "code",
   "execution_count": null,
   "id": "9a36c88d",
   "metadata": {},
   "outputs": [],
   "source": []
  },
  {
   "cell_type": "code",
   "execution_count": 3,
   "id": "43f3cc4f",
   "metadata": {},
   "outputs": [],
   "source": [
    "data = pd.read_csv('data/fashion_mnist/train.csv')"
   ]
  },
  {
   "cell_type": "code",
   "execution_count": 4,
   "id": "bdf155e9",
   "metadata": {},
   "outputs": [],
   "source": [
    "X_train = (tensor(data.iloc[:50000, 1:].values)/255.).view(-1, 1, 28, 28)\n",
    "y_train = tensor(data.iloc[:50000, 0].values)\n",
    "X_valid = (tensor(data.iloc[50000:, 1:].values)/255.).view(-1, 1, 28, 28)\n",
    "y_valid = tensor(data.iloc[50000:, 0].values)"
   ]
  },
  {
   "cell_type": "code",
   "execution_count": 5,
   "id": "5aa0ae27",
   "metadata": {},
   "outputs": [],
   "source": [
    "class FashionDataset(Dataset):\n",
    "    def __init__(self, x, y, mean=None, std=None):\n",
    "        self.mean = mean; self.std = std\n",
    "        if self.mean is None: self.mean = x.mean()\n",
    "        if self.std is None: self.std = x.std()\n",
    "        self.x = (x - self.mean) / self.std\n",
    "        self.y = y"
   ]
  },
  {
   "cell_type": "code",
   "execution_count": 18,
   "id": "97410115",
   "metadata": {},
   "outputs": [],
   "source": [
    "dset_train = FashionDataset(X_train[:2000], y_train[:2000])\n",
    "dset_valid = FashionDataset(X_valid[:2000], y_valid[:2000], dset_train.mean, dset_train.std)"
   ]
  },
  {
   "cell_type": "code",
   "execution_count": 19,
   "id": "7248e7ed",
   "metadata": {},
   "outputs": [],
   "source": [
    "dl_train = DataLoader(dset_train, batch_size=128, shuffle=True, num_workers=4)\n",
    "dl_valid = DataLoader(dset_valid, batch_size=len(dset_valid), shuffle=False,  num_workers=4)"
   ]
  },
  {
   "cell_type": "code",
   "execution_count": 20,
   "id": "85f2ff4c",
   "metadata": {},
   "outputs": [],
   "source": [
    "dls = DataLoaders(dl_train, dl_valid)"
   ]
  },
  {
   "cell_type": "markdown",
   "id": "4b722739",
   "metadata": {},
   "source": [
    "<br>**Model**"
   ]
  },
  {
   "cell_type": "code",
   "execution_count": 9,
   "id": "905c663b",
   "metadata": {},
   "outputs": [],
   "source": [
    "class SGD:\n",
    "    def __init__(self, params, lr=1e-3, wd=0.):\n",
    "        params = list(params)\n",
    "        fc.store_attr()\n",
    "        self.i = 0\n",
    "    def step(self):\n",
    "        with torch.no_grad():\n",
    "            for p in self.params:\n",
    "                if self.wd != 0: self.reg_step(p)\n",
    "                self.opt_step(p)\n",
    "        self.i += 1\n",
    "    def reg_step(self, p):\n",
    "        p *= (1 - self.wd*self.lr)\n",
    "    def opt_step(self, p):\n",
    "        p -= p.grad*self.lr\n",
    "    def zero_grad(self):\n",
    "        for p in self.params: p.grad.data.zero_()"
   ]
  },
  {
   "cell_type": "code",
   "execution_count": 10,
   "id": "0731b937",
   "metadata": {},
   "outputs": [],
   "source": [
    "class MomentumSGD(SGD):\n",
    "    def __init__(self, params, lr=1e-3, wd=0., mom=0.85):\n",
    "        super(MomentumSGD, self).__init__(params, lr, wd)\n",
    "        self.mom = mom\n",
    "    def opt_step(self, p):\n",
    "        if not hasattr(p, 'mom_avg'): p.grad_avg = torch.zeros_like(p.grad)\n",
    "        p.grad_avg  = self.mom*p.grad_avg + (1-self.mom)*p.grad\n",
    "        p -= p.grad_avg*self.lr"
   ]
  },
  {
   "cell_type": "code",
   "execution_count": 11,
   "id": "79ddc9b0",
   "metadata": {},
   "outputs": [],
   "source": [
    "class Adam(SGD):\n",
    "    def __init__(self, params, lr=1e-3, wd=0., beta1=0.9, beta2=0.99, eps=1e-2):\n",
    "        super(Adam, self).__init__(params, lr, wd)\n",
    "        self.beta1, self.beta2, self.eps = beta1, beta2, eps\n",
    "    def opt_step(self, p):\n",
    "        if not hasattr(p, 'avg'): p.avg = torch.zeros_like(p.grad)\n",
    "        if not hasattr(p, 'sqr_avg'): p.sqr_avg = torch.zeros_like(p.grad)\n",
    "        p.avg  = self.beta1*p.avg + (1-self.beta1)*p.grad\n",
    "        unbiased_avg = p.avg / (1 - self.beta1**(self.i+1))\n",
    "        p.sqr_avg = self.beta2*p.sqr_avg + (1-self.beta2)*p.grad**2\n",
    "        unbiased_sqr_avg = p.sqr_avg / (1 - self.beta2**(self.i+1))\n",
    "        p -= self.lr * unbiased_avg/(unbiased_sqr_avg.sqrt() + self.eps)"
   ]
  },
  {
   "cell_type": "code",
   "execution_count": 12,
   "id": "f657b09e",
   "metadata": {},
   "outputs": [],
   "source": [
    "class SingleBatchCB(Callback):\n",
    "    k = 0\n",
    "    def after_batch(self, learn): \n",
    "        if self.k > 2: raise CancelFitException()\n",
    "        self.k += 1"
   ]
  },
  {
   "cell_type": "code",
   "execution_count": 13,
   "id": "40a8e362",
   "metadata": {},
   "outputs": [],
   "source": [
    "def _lr(pg): return pg['lr']\n",
    "def _beta1(pg): return pg['betas'][0]"
   ]
  },
  {
   "cell_type": "code",
   "execution_count": 14,
   "id": "a749a6d8",
   "metadata": {},
   "outputs": [],
   "source": [
    "def init_weights(m, leaky=0.): \n",
    "    if isinstance(m, (nn.Conv1d, nn.Conv2d, nn.Conv3d)): nn.init.kaiming_normal_(m.weight, a=leaky)"
   ]
  },
  {
   "cell_type": "code",
   "execution_count": 21,
   "id": "10d9f720",
   "metadata": {},
   "outputs": [],
   "source": [
    "act_func = GeneralReLU(sub=0.4, leaky=0.1)\n",
    "model = nn.Sequential(\n",
    "    conv(1, 8, act=act_func), #14×14\n",
    "    nn.BatchNorm2d(8),\n",
    "    conv(8, 16, act=act_func), #7×7\n",
    "    nn.BatchNorm2d(16),\n",
    "    conv(16, 32, act=act_func), #4×4\n",
    "    nn.BatchNorm2d(32),\n",
    "    conv(32, 64, act=act_func), #2×2\n",
    "    conv(64, 10, act=None), #1×1\n",
    "    nn.Flatten(),\n",
    ")\n",
    "\n",
    "model = model.apply(partial(init_weights, leaky=0.1))"
   ]
  },
  {
   "cell_type": "code",
   "execution_count": 27,
   "id": "cb50eece",
   "metadata": {},
   "outputs": [],
   "source": [
    "lr_scheduler.OneCycleLR??"
   ]
  },
  {
   "cell_type": "code",
   "execution_count": 22,
   "id": "fee1fd10",
   "metadata": {},
   "outputs": [],
   "source": [
    "epochs = 6\n",
    "sched = partial(lr_scheduler.OneCycleLR, max_lr=5e-2, total_steps=epochs*len(dls.train))\n",
    "sched_cb = BatchSchedCB(sched)\n",
    "rec = RecorderCB(lr=_lr, beta1=_beta1)\n",
    "learn = TrainLearner(dls, model, F.cross_entropy, torch.optim.AdamW,\n",
    "                cbs=[sched_cb, rec, MetricCB(accuracy=MulticlassAccuracy()), ProgressCB()])"
   ]
  },
  {
   "cell_type": "code",
   "execution_count": 23,
   "id": "d350accf",
   "metadata": {},
   "outputs": [
    {
     "data": {
      "text/html": [
       "\n",
       "<style>\n",
       "    /* Turns off some styling */\n",
       "    progress {\n",
       "        /* gets rid of default border in Firefox and Opera. */\n",
       "        border: none;\n",
       "        /* Needs to be in here for Safari polyfill so background images work as expected. */\n",
       "        background-size: auto;\n",
       "    }\n",
       "    progress:not([value]), progress:not([value])::-webkit-progress-bar {\n",
       "        background: repeating-linear-gradient(45deg, #7e7e7e, #7e7e7e 10px, #5c5c5c 10px, #5c5c5c 20px);\n",
       "    }\n",
       "    .progress-bar-interrupted, .progress-bar-interrupted::-webkit-progress-bar {\n",
       "        background: #F44336;\n",
       "    }\n",
       "</style>\n"
      ],
      "text/plain": [
       "<IPython.core.display.HTML object>"
      ]
     },
     "metadata": {},
     "output_type": "display_data"
    },
    {
     "data": {
      "text/html": [
       "<table border=\"1\" class=\"dataframe\">\n",
       "  <thead>\n",
       "    <tr style=\"text-align: left;\">\n",
       "      <th>epoch</th>\n",
       "      <th>train_loss</th>\n",
       "      <th>valid_loss</th>\n",
       "      <th>accuracy</th>\n",
       "    </tr>\n",
       "  </thead>\n",
       "  <tbody>\n",
       "    <tr>\n",
       "      <td>0</td>\n",
       "      <td>1.231</td>\n",
       "      <td>1.63</td>\n",
       "      <td>0.613</td>\n",
       "    </tr>\n",
       "    <tr>\n",
       "      <td>1</td>\n",
       "      <td>1.094</td>\n",
       "      <td>1.293</td>\n",
       "      <td>0.697</td>\n",
       "    </tr>\n",
       "    <tr>\n",
       "      <td>2</td>\n",
       "      <td>0.693</td>\n",
       "      <td>0.714</td>\n",
       "      <td>0.753</td>\n",
       "    </tr>\n",
       "    <tr>\n",
       "      <td>3</td>\n",
       "      <td>0.514</td>\n",
       "      <td>0.619</td>\n",
       "      <td>0.793</td>\n",
       "    </tr>\n",
       "    <tr>\n",
       "      <td>4</td>\n",
       "      <td>0.382</td>\n",
       "      <td>0.566</td>\n",
       "      <td>0.787</td>\n",
       "    </tr>\n",
       "    <tr>\n",
       "      <td>5</td>\n",
       "      <td>0.286</td>\n",
       "      <td>0.527</td>\n",
       "      <td>0.803</td>\n",
       "    </tr>\n",
       "  </tbody>\n",
       "</table>"
      ],
      "text/plain": [
       "<IPython.core.display.HTML object>"
      ]
     },
     "metadata": {},
     "output_type": "display_data"
    }
   ],
   "source": [
    "learn.fit(epochs, 8e-3)"
   ]
  },
  {
   "cell_type": "code",
   "execution_count": 24,
   "id": "e687be29",
   "metadata": {},
   "outputs": [
    {
     "data": {
      "image/png": "[encoded data removed]",
      "text/plain": [
       "<Figure size 700x350 with 2 Axes>"
      ]
     },
     "metadata": {},
     "output_type": "display_data"
    }
   ],
   "source": [
    "rec.plot(imsize=[3.5, 3.5])"
   ]
  },
  {
   "cell_type": "code",
   "execution_count": null,
   "id": "57c7f63f",
   "metadata": {},
   "outputs": [],
   "source": []
  },
  {
   "cell_type": "code",
   "execution_count": null,
   "id": "27f5b565",
   "metadata": {},
   "outputs": [],
   "source": []
  }
 ],
 "metadata": {
  "kernelspec": {
   "display_name": "Python 3 (ipykernel)",
   "language": "python",
   "name": "python3"
  },
  "language_info": {
   "codemirror_mode": {
    "name": "ipython",
    "version": 3
   },
   "file_extension": ".py",
   "mimetype": "text/x-python",
   "name": "python",
   "nbconvert_exporter": "python",
   "pygments_lexer": "ipython3",
   "version": "3.10.10"
  }
 },
 "nbformat": 4,
 "nbformat_minor": 5
}
