{
 "cells": [
  {
   "cell_type": "code",
   "execution_count": 7,
   "id": "0480ada3",
   "metadata": {},
   "outputs": [],
   "source": [
    "#|default_exp custom_modules"
   ]
  },
  {
   "cell_type": "code",
   "execution_count": 8,
   "id": "0f33ec7d",
   "metadata": {},
   "outputs": [],
   "source": [
    "#|export\n",
    "import torch, torch.nn as nn, torch.nn.functional as F"
   ]
  },
  {
   "cell_type": "code",
   "execution_count": 9,
   "id": "635b1d7b",
   "metadata": {},
   "outputs": [],
   "source": [
    "#|export\n",
    "def conv(in_f, out_f, ks=3, stride=2, act=None, norm=None):\n",
    "    res = nn.Conv2d(in_f, out_f, ks, stride, padding=ks//2)\n",
    "    if (act is None) and (norm is None): return res\n",
    "    if (act is None): return nn.Sequential(res, norm(out_f))\n",
    "    if (norm is None): return nn.Sequential(res, act)\n",
    "    return nn.Sequential(res, act, norm(out_f))"
   ]
  },
  {
   "cell_type": "code",
   "execution_count": 10,
   "id": "a564c07e",
   "metadata": {},
   "outputs": [],
   "source": [
    "#|export\n",
    "class GeneralReLU(nn.Module):\n",
    "    def __init__(self, sub=None, leaky=None, maxv=None): \n",
    "        super().__init__()\n",
    "        self.leaky = leaky; self.sub = sub; self.maxv = maxv\n",
    "    def forward(self, x):\n",
    "        x = F.leaky_relu(x, self.leaky) if (self.leaky != None) else F.relu(x)\n",
    "        if self.sub != None: x -= self.sub\n",
    "        if self.maxv != None: x.clamp_max_(self.maxv)\n",
    "        return x"
   ]
  },
  {
   "cell_type": "code",
   "execution_count": null,
   "id": "04c58288",
   "metadata": {},
   "outputs": [],
   "source": []
  },
  {
   "cell_type": "code",
   "execution_count": 11,
   "id": "22e9153e",
   "metadata": {},
   "outputs": [],
   "source": [
    "import nbdev; nbdev.nbdev_export()"
   ]
  },
  {
   "cell_type": "code",
   "execution_count": null,
   "id": "07dc4d29",
   "metadata": {},
   "outputs": [],
   "source": []
  }
 ],
 "metadata": {
  "kernelspec": {
   "display_name": "Python 3 (ipykernel)",
   "language": "python",
   "name": "python3"
  },
  "language_info": {
   "codemirror_mode": {
    "name": "ipython",
    "version": 3
   },
   "file_extension": ".py",
   "mimetype": "text/x-python",
   "name": "python",
   "nbconvert_exporter": "python",
   "pygments_lexer": "ipython3",
   "version": "3.10.10"
  }
 },
 "nbformat": 4,
 "nbformat_minor": 5
}
