{
 "cells": [
  {
   "cell_type": "code",
   "execution_count": 10,
   "id": "d1aab0b0",
   "metadata": {},
   "outputs": [],
   "source": [
    "#|default_exp plotting"
   ]
  },
  {
   "cell_type": "code",
   "execution_count": 11,
   "id": "ae81336f",
   "metadata": {},
   "outputs": [],
   "source": [
    "#|export\n",
    "import matplotlib.pyplot as plt, numpy as np\n",
    "import fastcore.all as fc"
   ]
  },
  {
   "cell_type": "code",
   "execution_count": 16,
   "id": "5a6c1273",
   "metadata": {},
   "outputs": [],
   "source": [
    "#|export\n",
    "@fc.delegates(plt.Axes.imshow)\n",
    "def show_image(img, ax=None, figsize=(1.5, 1.5), title=None, ax_off=True, **kwargs):\n",
    "    if img is None: ax.axis('off'); return ax\n",
    "    \n",
    "    if not isinstance(img, np.ndarray): img = np.array(img)\n",
    "    img = img.squeeze()\n",
    "    if len(img.shape)==3 and img.shape[0]<=3: img = np.transpose(img, axes=[-2, -1, -3])\n",
    "    \n",
    "    if ax is None: fig, ax = plt.subplots(figsize=figsize)\n",
    "    if title is not None: ax.set_title(title)\n",
    "    if ax_off: ax.axis('off')\n",
    "    ax.imshow(img, **kwargs);\n",
    "    return ax"
   ]
  },
  {
   "cell_type": "code",
   "execution_count": 13,
   "id": "76d0230f",
   "metadata": {},
   "outputs": [],
   "source": [
    "#|export\n",
    "@fc.delegates(plt.subplots, keep=True)\n",
    "def subplots(n=1, nrows=None, ncols=None, figsize=None, imsize=None, **kwargs):\n",
    "    if (ncols is None) and (nrows is None): \n",
    "        nrows = int(np.floor(n**0.5))\n",
    "        ncols = int(np.ceil(n/nrows))\n",
    "    elif (nrows is None): nrows = int(np.ceil(n/ncols))\n",
    "    elif (ncols is None): ncols = int(np.ceil(n/nrows))\n",
    "    fig, ax = plt.subplots(nrows, ncols, \n",
    "                           figsize=figsize if (imsize is None) else (imsize[0]*ncols, imsize[1]*nrows),\n",
    "                           **kwargs)\n",
    "    if (nrows*ncols != 1): ax = ax.flat\n",
    "    return fig, ax"
   ]
  },
  {
   "cell_type": "code",
   "execution_count": 14,
   "id": "100e05ee",
   "metadata": {},
   "outputs": [],
   "source": [
    "#|export\n",
    "@fc.delegates(subplots)\n",
    "def show_images(images=[], titles=None, imsize=(2, 2), cmap=None, **kwargs):\n",
    "    fig, ax = subplots(n=len(images), imsize=imsize, **kwargs)\n",
    "    for i, axis in enumerate(ax):\n",
    "        if i < len(images):\n",
    "            show_image(images[i], \n",
    "                       axis,\n",
    "                       title=(None if titles is None else titles[i]), figsize=imsize, cmap=cmap)\n",
    "        else: axis.axis('off')"
   ]
  },
  {
   "cell_type": "code",
   "execution_count": 17,
   "id": "515a46b5",
   "metadata": {},
   "outputs": [],
   "source": [
    "import nbdev; nbdev.nbdev_export()"
   ]
  },
  {
   "cell_type": "code",
   "execution_count": null,
   "id": "9ce6a5df",
   "metadata": {},
   "outputs": [],
   "source": []
  },
  {
   "cell_type": "code",
   "execution_count": null,
   "id": "d2b67057",
   "metadata": {},
   "outputs": [],
   "source": []
  },
  {
   "cell_type": "code",
   "execution_count": 21,
   "id": "9f35d225",
   "metadata": {},
   "outputs": [],
   "source": [
    "import matplotlib.pyplot as plt, matplotlib as mpl, numpy as np, torch\n",
    "from torch import tensor, nn\n",
    "from datasets import load_dataset, load_dataset_builder\n",
    "import torchvision.transforms.functional as TF\n",
    "from torch.utils.data import DataLoader, default_collate\n",
    "from operator import itemgetter\n",
    "import fastcore.all as fc\n",
    "\n",
    "mpl.rcParams['image.cmap'] = 'Greys'\n",
    "torch.set_printoptions(precision=3, linewidth=100)"
   ]
  },
  {
   "cell_type": "code",
   "execution_count": 4,
   "id": "af979dda",
   "metadata": {},
   "outputs": [],
   "source": [
    "ds_builder = load_dataset_builder('fashion_mnist')"
   ]
  },
  {
   "cell_type": "code",
   "execution_count": 5,
   "id": "b6bc1855",
   "metadata": {},
   "outputs": [
    {
     "name": "stderr",
     "output_type": "stream",
     "text": [
      "Found cached dataset fashion_mnist (/home/pika228/.cache/huggingface/datasets/fashion_mnist/fashion_mnist/1.0.0/0a671f063342996f19779d38c0ab4abef9c64f757b35af8134b331c294d7ba48)\n"
     ]
    },
    {
     "data": {
      "application/vnd.jupyter.widget-view+json": {
       "model_id": "432e69b437404e28805528266a065fb4",
       "version_major": 2,
       "version_minor": 0
      },
      "text/plain": [
       "  0%|          | 0/2 [00:00<?, ?it/s]"
      ]
     },
     "metadata": {},
     "output_type": "display_data"
    }
   ],
   "source": [
    "dsd = load_dataset('fashion_mnist')\n",
    "data = dsd['train']"
   ]
  },
  {
   "cell_type": "code",
   "execution_count": 6,
   "id": "2b8ee705",
   "metadata": {},
   "outputs": [],
   "source": [
    "get_label = data.features['label'].int2str"
   ]
  },
  {
   "cell_type": "code",
   "execution_count": 7,
   "id": "62bce6a6",
   "metadata": {
    "scrolled": true
   },
   "outputs": [
    {
     "data": {
      "text/plain": [
       "{'image': [<PIL.PngImagePlugin.PngImageFile image mode=L size=28x28>,\n",
       "  <PIL.PngImagePlugin.PngImageFile image mode=L size=28x28>,\n",
       "  <PIL.PngImagePlugin.PngImageFile image mode=L size=28x28>,\n",
       "  <PIL.PngImagePlugin.PngImageFile image mode=L size=28x28>,\n",
       "  <PIL.PngImagePlugin.PngImageFile image mode=L size=28x28>],\n",
       " 'label': [9, 0, 0, 3, 0]}"
      ]
     },
     "execution_count": 7,
     "metadata": {},
     "output_type": "execute_result"
    }
   ],
   "source": [
    "data[:5]"
   ]
  },
  {
   "cell_type": "code",
   "execution_count": 4,
   "id": "3c11775e",
   "metadata": {},
   "outputs": [],
   "source": [
    "def inplace(f):\n",
    "    def _f(batch):\n",
    "        f(batch)\n",
    "        return batch\n",
    "    return _f"
   ]
  },
  {
   "cell_type": "code",
   "execution_count": 9,
   "id": "dc232717",
   "metadata": {},
   "outputs": [],
   "source": [
    "@inplace\n",
    "def transforms(batch):\n",
    "    batch['image'] = [TF.to_tensor(o).flatten() for o in batch['image']]"
   ]
  },
  {
   "cell_type": "code",
   "execution_count": 10,
   "id": "17576998",
   "metadata": {},
   "outputs": [],
   "source": [
    "tds = data.with_transform(transforms)"
   ]
  },
  {
   "cell_type": "code",
   "execution_count": 11,
   "id": "5a817d57",
   "metadata": {},
   "outputs": [
    {
     "data": {
      "text/plain": [
       "(<matplotlib.image.AxesImage at 0x7fd6dae33010>, 'Dress')"
      ]
     },
     "execution_count": 11,
     "metadata": {},
     "output_type": "execute_result"
    },
    {
     "data": {
      "image/png": "[encoded data removed]",
      "text/plain": [
       "<Figure size 640x480 with 1 Axes>"
      ]
     },
     "metadata": {},
     "output_type": "display_data"
    }
   ],
   "source": [
    "i = 34554\n",
    "plt.imshow(tds[i]['image'].view(28, 28)), get_label(tds[i]['label'])"
   ]
  },
  {
   "cell_type": "code",
   "execution_count": 12,
   "id": "e72eb769",
   "metadata": {},
   "outputs": [],
   "source": [
    "def collate_dict(ds):\n",
    "    ig = itemgetter(*ds.features)\n",
    "    def _f(batch): return ig(default_collate(batch))\n",
    "    return _f"
   ]
  },
  {
   "cell_type": "code",
   "execution_count": 13,
   "id": "347a1553",
   "metadata": {},
   "outputs": [],
   "source": [
    "dl = DataLoader(tds, batch_size=64, collate_fn=collate_dict(tds))"
   ]
  },
  {
   "cell_type": "code",
   "execution_count": 14,
   "id": "6a3bcdf8",
   "metadata": {},
   "outputs": [
    {
     "data": {
      "text/plain": [
       "(tensor([[0., 0., 0.,  ..., 0., 0., 0.],\n",
       "         [0., 0., 0.,  ..., 0., 0., 0.],\n",
       "         [0., 0., 0.,  ..., 0., 0., 0.],\n",
       "         ...,\n",
       "         [0., 0., 0.,  ..., 0., 0., 0.],\n",
       "         [0., 0., 0.,  ..., 0., 0., 0.],\n",
       "         [0., 0., 0.,  ..., 0., 0., 0.]]),\n",
       " tensor([9, 0, 0, 3, 0, 2, 7, 2, 5, 5, 0, 9, 5, 5, 7, 9, 1, 0, 6, 4, 3, 1, 4, 8, 4, 3, 0, 2, 4, 4, 5,\n",
       "         3, 6, 6, 0, 8, 5, 2, 1, 6, 6, 7, 9, 5, 9, 2, 7, 3, 0, 3, 3, 3, 7, 2, 2, 6, 6, 8, 3, 3, 5, 0,\n",
       "         5, 5]))"
      ]
     },
     "execution_count": 14,
     "metadata": {},
     "output_type": "execute_result"
    }
   ],
   "source": [
    "next(iter(dl))"
   ]
  },
  {
   "cell_type": "markdown",
   "id": "c6964543",
   "metadata": {},
   "source": [
    "<br><br>**Plotting images**"
   ]
  },
  {
   "cell_type": "code",
   "execution_count": 15,
   "id": "5e7a8762",
   "metadata": {},
   "outputs": [],
   "source": [
    "img = tds[0]['image']"
   ]
  },
  {
   "cell_type": "code",
   "execution_count": 18,
   "id": "da98ed71",
   "metadata": {},
   "outputs": [
    {
     "data": {
      "text/plain": [
       "<Axes: title={'center': 'boot'}>"
      ]
     },
     "execution_count": 18,
     "metadata": {},
     "output_type": "execute_result"
    },
    {
     "data": {
      "image/png": "[encoded data removed]",
      "text/plain": [
       "<Figure size 150x150 with 1 Axes>"
      ]
     },
     "metadata": {},
     "output_type": "display_data"
    }
   ],
   "source": [
    "show_image(img, shape=[28, 28], title='boot')"
   ]
  },
  {
   "cell_type": "code",
   "execution_count": 25,
   "id": "3efeaa39",
   "metadata": {},
   "outputs": [
    {
     "data": {
      "image/png": "[encoded data removed]",
      "text/plain": [
       "<Figure size 850x510 with 15 Axes>"
      ]
     },
     "metadata": {},
     "output_type": "display_data"
    }
   ],
   "source": [
    "images = tds[-15:]\n",
    "titles = [get_label(l) for l in images['label']]\n",
    "show_images(images['image'], titles=titles, shape=[28, 28], nrows=3, ncols=5, imsize=(1.7, 1.7))"
   ]
  },
  {
   "cell_type": "code",
   "execution_count": null,
   "id": "f4b9e029",
   "metadata": {},
   "outputs": [],
   "source": []
  }
 ],
 "metadata": {
  "kernelspec": {
   "display_name": "Python 3 (ipykernel)",
   "language": "python",
   "name": "python3"
  },
  "language_info": {
   "codemirror_mode": {
    "name": "ipython",
    "version": 3
   },
   "file_extension": ".py",
   "mimetype": "text/x-python",
   "name": "python",
   "nbconvert_exporter": "python",
   "pygments_lexer": "ipython3",
   "version": "3.10.10"
  },
  "toc": {
   "base_numbering": 1,
   "nav_menu": {},
   "number_sections": true,
   "sideBar": true,
   "skip_h1_title": false,
   "title_cell": "Table of Contents",
   "title_sidebar": "Contents",
   "toc_cell": false,
   "toc_position": {},
   "toc_section_display": true,
   "toc_window_display": false
  }
 },
 "nbformat": 4,
 "nbformat_minor": 5
}
