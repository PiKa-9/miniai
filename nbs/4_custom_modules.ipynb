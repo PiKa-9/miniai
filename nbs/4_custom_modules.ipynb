{
 "cells": [
  {
   "cell_type": "raw",
   "metadata": {},
   "source": [
    "---\n",
    "{}\n",
    "\n",
    "---\n",
    "\n"
   ]
  },
  {
   "cell_type": "code",
   "execution_count": null,
   "id": "a6bcd1de",
   "metadata": {},
   "outputs": [],
   "source": [
    "import torch, torch.nn as nn, numpy as np\n",
    "from torch import tensor\n",
    "from itertools import islice"
   ]
  },
  {
   "cell_type": "code",
   "execution_count": 2,
   "id": "2f88c824",
   "metadata": {},
   "outputs": [],
   "source": [
    "import torch, torch.nn as nn, pandas as pd, numpy as np, matplotlib.pyplot as plt, matplotlib as mpl\n",
    "import torch.nn.functional as F, random\n",
    "from torch import tensor, optim\n",
    "from functools import reduce\n",
    "from itertools import islice\n",
    "\n",
    "mpl.rcParams['image.cmap'] = 'gray'\n",
    "torch.set_printoptions(precision=3, linewidth=100)"
   ]
  },
  {
   "cell_type": "code",
   "execution_count": 2,
   "id": "f7be1abb",
   "metadata": {},
   "outputs": [],
   "source": [
    "data = pd.read_csv('data/fashion_mnist/train.csv')"
   ]
  },
  {
   "cell_type": "code",
   "execution_count": 3,
   "id": "d06acfca",
   "metadata": {},
   "outputs": [],
   "source": [
    "X_train = tensor(data.iloc[:50000, 1:].values)\n",
    "y_train = tensor(data.iloc[:50000, 0].values)\n",
    "X_valid = tensor(data.iloc[50000:, 1:].values)\n",
    "y_valid = tensor(data.iloc[50000:, 0].values)"
   ]
  },
  {
   "cell_type": "code",
   "execution_count": 4,
   "id": "b432a03f",
   "metadata": {},
   "outputs": [],
   "source": [
    "# X_train = X_train/255. - 0.5; X_valid = X_valid/255. - 0.5"
   ]
  },
  {
   "cell_type": "markdown",
   "id": "f1e6af61",
   "metadata": {},
   "source": [
    "<br>**Dataset and Dataloader**"
   ]
  },
  {
   "cell_type": "code",
   "execution_count": 5,
   "id": "460ef86d",
   "metadata": {},
   "outputs": [],
   "source": [
    "class Dataset():\n",
    "    def __init__(self, x, y): self.x = x; self.y = y\n",
    "    def __getitem__(self, idx): return (self.x[idx], self.y[idx])\n",
    "    def __len__(self): return len(self.y)"
   ]
  },
  {
   "cell_type": "code",
   "execution_count": 6,
   "id": "eb344497",
   "metadata": {},
   "outputs": [],
   "source": [
    "dset_train = Dataset(X_train, y_train)\n",
    "dset_valid = Dataset(X_valid, y_valid)"
   ]
  },
  {
   "cell_type": "code",
   "execution_count": 7,
   "id": "89dfd575",
   "metadata": {
    "scrolled": true
   },
   "outputs": [
    {
     "data": {
      "text/plain": [
       "(50000, 10000)"
      ]
     },
     "execution_count": 7,
     "metadata": {},
     "output_type": "execute_result"
    }
   ],
   "source": [
    "len(dset_train), len(dset_valid)"
   ]
  },
  {
   "cell_type": "code",
   "execution_count": 8,
   "id": "d5deb593",
   "metadata": {},
   "outputs": [],
   "source": [
    "class Sampler():\n",
    "    def __init__(self, dset, shuffle=False): self.n = len(dset); self.shuffle = shuffle\n",
    "    def __iter__(self): \n",
    "        idx_list = list(range(self.n))\n",
    "        if self.shuffle: random.shuffle(idx_list)\n",
    "        return iter(idx_list)\n",
    "\n",
    "class BatchSampler():\n",
    "    def __init__(self, sampler, bs): self.sampler = sampler; self.bs = bs\n",
    "    def __iter__(self): \n",
    "        it = iter(self.sampler)\n",
    "        has_last_batch = 0 if self.sampler.n%self.bs == 0 else 1\n",
    "        for i in range(self.sampler.n//self.bs): yield list(islice(it, self.bs))\n",
    "        if has_last_batch: yield list(it)"
   ]
  },
  {
   "cell_type": "code",
   "execution_count": 9,
   "id": "a4446534",
   "metadata": {},
   "outputs": [],
   "source": [
    "train_samp = BatchSampler(sampler=Sampler(dset_train, True), bs=64)\n",
    "valid_samp = BatchSampler(sampler=Sampler(dset_valid, False), bs=len(dset_valid))"
   ]
  },
  {
   "cell_type": "code",
   "execution_count": 10,
   "id": "b8143fbb",
   "metadata": {},
   "outputs": [],
   "source": [
    "class DataLoader():\n",
    "    def __init__(self, dset, sampler): self.dset = dset; self.sampler = sampler\n",
    "    def __iter__(self): \n",
    "        for batch in iter(self.sampler): yield self.dset[batch]"
   ]
  },
  {
   "cell_type": "code",
   "execution_count": 38,
   "id": "95b54ade",
   "metadata": {},
   "outputs": [],
   "source": [
    "#dl_train = DataLoader(dset_train, train_samp)\n",
    "#dl_valid = DataLoader(dset_valid, valid_samp)"
   ]
  },
  {
   "cell_type": "code",
   "execution_count": 40,
   "id": "57ac70b3",
   "metadata": {},
   "outputs": [],
   "source": [
    "dl_train = torch.utils.data.DataLoader(dset_train, batch_size=256, shuffle=True)\n",
    "dl_valid = torch.utils.data.DataLoader(dset_valid, batch_size=len(dset_valid), shuffle=False)"
   ]
  },
  {
   "cell_type": "markdown",
   "id": "23980866",
   "metadata": {},
   "source": [
    "<br><br> **Model class**"
   ]
  },
  {
   "cell_type": "code",
   "execution_count": null,
   "id": "fa91cb23",
   "metadata": {},
   "outputs": [],
   "source": [
    "class MyModule:\n",
    "    def __init__(self):\n",
    "        self._modules = {}\n",
    "    def __setattr__(self, k, v):\n",
    "        if k[0] != '_': self._modules[k] = v\n",
    "        super().__setattr__(k, v)\n",
    "    def __repr__(self):\n",
    "        return f'{self._modules}'\n",
    "    def parameters(self):\n",
    "        for l in self._modules.values(): yield from l.parameters()"
   ]
  },
  {
   "cell_type": "code",
   "execution_count": null,
   "id": "1a21691c",
   "metadata": {},
   "outputs": [],
   "source": [
    "class SequentialModel(nn.Module):\n",
    "    def __init__(self, layers):\n",
    "        super().__init__()\n",
    "        self.layers = nn.ModuleList(layers)\n",
    "    def forward(self, x):\n",
    "        return reduce(lambda val, layer: layer(val), self.layers, x)"
   ]
  },
  {
   "cell_type": "code",
   "execution_count": null,
   "id": "f033fdd8",
   "metadata": {},
   "outputs": [],
   "source": [
    "class Model(nn.Module):\n",
    "    def __init__(self, layers):\n",
    "        super().__init__()\n",
    "        self.layers = nn.Sequential(*layers)\n",
    "    def forward(self, x):\n",
    "        return self.layers(x)"
   ]
  },
  {
   "cell_type": "code",
   "execution_count": null,
   "id": "dc6e2e6d",
   "metadata": {},
   "outputs": [],
   "source": [
    "class Optimizer():\n",
    "    def __init__(self, params, lr=1e-3): self.params = list(params); self.lr = lr\n",
    "    def step(self):\n",
    "        with torch.no_grad():\n",
    "            for p in self.params: p -= p.grad * self.lr\n",
    "    def zero_grad(self):\n",
    "        for p in self.params: p.grad.data.zero_()"
   ]
  },
  {
   "cell_type": "code",
   "execution_count": 46,
   "id": "8d027a2f",
   "metadata": {},
   "outputs": [],
   "source": [
    "model = nn.Sequential(nn.Linear(784, 1024), nn.ReLU(), nn.Linear(1024, 50), nn.ReLU(), nn.Linear(50, 10))"
   ]
  },
  {
   "cell_type": "code",
   "execution_count": 47,
   "id": "dc566dc6",
   "metadata": {},
   "outputs": [],
   "source": [
    "loss_func = F.cross_entropy"
   ]
  },
  {
   "cell_type": "code",
   "execution_count": 48,
   "id": "bd6f1f6e",
   "metadata": {},
   "outputs": [],
   "source": [
    "batch = next(iter(dl_train))\n",
    "X_b = batch[0]; y_b = batch[1]"
   ]
  },
  {
   "cell_type": "code",
   "execution_count": 49,
   "id": "8da8d4bd",
   "metadata": {},
   "outputs": [
    {
     "name": "stdout",
     "output_type": "stream",
     "text": [
      "tensor(31) 256\n"
     ]
    }
   ],
   "source": [
    "with torch.no_grad():\n",
    "    preds = model(X_b)\n",
    "    print((preds.argmax(dim=1) == y_b).sum(), len(preds))"
   ]
  },
  {
   "cell_type": "code",
   "execution_count": 51,
   "id": "ef537c09",
   "metadata": {},
   "outputs": [
    {
     "name": "stdout",
     "output_type": "stream",
     "text": [
      "0.7128\t0.6988\t0.7483\n",
      "0.6882\t0.6775\t0.7555\n",
      "0.6669\t0.6592\t0.7578\n",
      "0.6499\t0.6431\t0.7660\n",
      "0.6343\t0.6286\t0.7685\n",
      "0.6202\t0.6161\t0.7723\n",
      "0.6079\t0.6041\t0.7770\n",
      "0.5967\t0.5946\t0.7848\n",
      "0.5865\t0.5847\t0.7867\n",
      "0.5767\t0.5768\t0.7902\n",
      "0.5681\t0.5686\t0.7910\n",
      "0.5594\t0.5607\t0.7957\n",
      "0.5516\t0.5532\t0.7986\n",
      "0.5449\t0.5462\t0.8013\n",
      "0.5376\t0.5414\t0.8034\n",
      "0.5310\t0.5332\t0.8068\n",
      "0.5254\t0.5293\t0.8079\n",
      "0.5193\t0.5228\t0.8109\n",
      "0.5142\t0.5173\t0.8141\n",
      "0.5092\t0.5128\t0.8168\n"
     ]
    }
   ],
   "source": [
    "bs = 200\n",
    "epochs = 20\n",
    "opt = optim.SGD(model.parameters(), lr=5e-3)\n",
    "\n",
    "for epoch in range(epochs):\n",
    "    # Loop through batches\n",
    "    loss_sum, cnt = 0, 0\n",
    "    for X_b, y_b in dl_train:\n",
    "        # Get the gradients by calculating the loss\n",
    "        preds = model(X_b)\n",
    "        loss = loss_func(preds, y_b)\n",
    "        loss.backward()\n",
    "        # For model evaluation\n",
    "        with torch.no_grad(): \n",
    "            loss_sum += loss.item(); cnt += 1\n",
    "        # Update the weights\n",
    "        opt.step()\n",
    "        opt.zero_grad()\n",
    "    # Evaluate the model\n",
    "    if epoch%1 == 0: \n",
    "        train_loss = loss_sum/cnt; loss_sum, cnt = 0, 0; correct_cnt, all_cnt = 0, 0\n",
    "        for X_b, y_b in dl_valid:\n",
    "            with torch.no_grad():\n",
    "                preds = model(X_b)\n",
    "                loss_sum += loss_func(preds, y_b).item(); cnt += 1\n",
    "                correct_cnt = (preds.argmax(dim=1) == y_b).sum(); all_cnt += len(y_b)\n",
    "        valid_loss = loss_sum/cnt \n",
    "        accuracy = correct_cnt/all_cnt\n",
    "        print(f'{train_loss:.4f}\\t{valid_loss:.4f}\\t{accuracy:.4f}')"
   ]
  },
  {
   "cell_type": "code",
   "execution_count": null,
   "id": "1b3c6269",
   "metadata": {},
   "outputs": [],
   "source": []
  },
  {
   "cell_type": "code",
   "execution_count": null,
   "id": "2f6dd9be",
   "metadata": {},
   "outputs": [],
   "source": []
  },
  {
   "cell_type": "code",
   "execution_count": null,
   "id": "e3578c4d",
   "metadata": {},
   "outputs": [],
   "source": []
  },
  {
   "cell_type": "code",
   "execution_count": 3,
   "id": "f82c822e",
   "metadata": {},
   "outputs": [],
   "source": [
    "def train(epochs, lr, opt, model, loss_func, dl_train, dl_valid, eval_freq=1):\n",
    "    for epoch in range(epochs):\n",
    "        # Loop through batches\n",
    "        loss_sum, cnt = 0, 0\n",
    "        for X_b, y_b in dl_train:\n",
    "            # Get the gradients by calculating the loss\n",
    "            preds = model(X_b)\n",
    "            loss = loss_func(preds, y_b)\n",
    "            loss.backward()\n",
    "            # For model evaluation\n",
    "            with torch.no_grad(): \n",
    "                loss_sum += loss.item(); cnt += 1\n",
    "            # Update the weights\n",
    "            opt.step()\n",
    "            opt.zero_grad()\n",
    "        # Evaluate the model\n",
    "        if epoch%eval_freq == 0: \n",
    "            train_loss = loss_sum/cnt; loss_sum, cnt = 0, 0; correct_cnt, all_cnt = 0, 0\n",
    "            for X_b, y_b in dl_valid:\n",
    "                with torch.no_grad():\n",
    "                    preds = model(X_b)\n",
    "                    loss_sum += loss_func(preds, y_b).item(); cnt += 1\n",
    "                    correct_cnt = (preds.argmax(dim=1) == y_b).sum(); all_cnt += len(y_b)\n",
    "            valid_loss = loss_sum/cnt \n",
    "            accuracy = correct_cnt/all_cnt\n",
    "            print(f'{train_loss:.4f}\\t{valid_loss:.4f}\\t{accuracy:.4f}')"
   ]
  },
  {
   "cell_type": "code",
   "execution_count": null,
   "id": "23cdfc8f",
   "metadata": {},
   "outputs": [],
   "source": []
  }
 ],
 "metadata": {
  "kernelspec": {
   "display_name": "Python 3 (ipykernel)",
   "language": "python",
   "name": "python3"
  },
  "language_info": {
   "codemirror_mode": {
    "name": "ipython",
    "version": 3
   },
   "file_extension": ".py",
   "mimetype": "text/x-python",
   "name": "python",
   "nbconvert_exporter": "python",
   "pygments_lexer": "ipython3",
   "version": "3.10.10"
  },
  "toc": {
   "base_numbering": 1,
   "nav_menu": {},
   "number_sections": true,
   "sideBar": true,
   "skip_h1_title": false,
   "title_cell": "Table of Contents",
   "title_sidebar": "Contents",
   "toc_cell": false,
   "toc_position": {},
   "toc_section_display": true,
   "toc_window_display": false
  }
 },
 "nbformat": 4,
 "nbformat_minor": 5
}
