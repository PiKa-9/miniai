{
 "cells": [
  {
   "cell_type": "raw",
   "metadata": {},
   "source": [
    "---\n",
    "{}\n",
    "\n",
    "---\n",
    "\n"
   ]
  },
  {
   "cell_type": "code",
   "execution_count": 1,
   "id": "25c7464c",
   "metadata": {},
   "outputs": [],
   "source": [
    "import numpy as np\n",
    "import torch\n",
    "from torch import tensor\n",
    "import matplotlib.pyplot as plt, seaborn as sns\n",
    "sns.set()\n",
    "torch.set_printoptions(precision=3, linewidth=100)"
   ]
  },
  {
   "cell_type": "code",
   "execution_count": 131,
   "id": "57ca07da",
   "metadata": {},
   "outputs": [],
   "source": [
    "def f(x): \n",
    "    if x < -3: return 3\n",
    "    if x < -1: return 2\n",
    "    if x < 0: return 0\n",
    "    if x < 1: return 1\n",
    "    if x < 2: return 2\n",
    "    return 3\n",
    "x = torch.linspace(-5, 5, 20)\n",
    "y = torch.tensor(list(map(f, x)))"
   ]
  },
  {
   "cell_type": "code",
   "execution_count": 132,
   "id": "e189a8ca",
   "metadata": {},
   "outputs": [
    {
     "data": {
      "text/plain": [
       "[<matplotlib.lines.Line2D at 0x7f671a464d00>]"
      ]
     },
     "execution_count": 132,
     "metadata": {},
     "output_type": "execute_result"
    },
    {
     "data": {
      "image/png": "[encoded data removed]",
      "text/plain": [
       "<Figure size 640x480 with 1 Axes>"
      ]
     },
     "metadata": {},
     "output_type": "display_data"
    }
   ],
   "source": [
    "plt.plot(x, y)"
   ]
  },
  {
   "cell_type": "code",
   "execution_count": 133,
   "id": "13c3ecfa",
   "metadata": {},
   "outputs": [],
   "source": [
    "x = x[:, None]; y = y[:, None]"
   ]
  },
  {
   "cell_type": "markdown",
   "id": "b1fcbcab",
   "metadata": {},
   "source": [
    "<br><br> **NN arch** <br>\n",
    "1 → 50 → 1"
   ]
  },
  {
   "cell_type": "markdown",
   "id": "948afaa1",
   "metadata": {},
   "source": [
    "**using torch.nn**"
   ]
  },
  {
   "cell_type": "code",
   "execution_count": 5,
   "id": "90fb4ef4",
   "metadata": {},
   "outputs": [],
   "source": [
    "import torch.nn as nn, torch.nn.functional as F"
   ]
  },
  {
   "cell_type": "code",
   "execution_count": 75,
   "id": "2f563620",
   "metadata": {},
   "outputs": [],
   "source": [
    "def log_softmax(x): return x - x.exp().sum(dim=-1, keepdim=True).log()"
   ]
  },
  {
   "cell_type": "code",
   "execution_count": 76,
   "id": "db846ff9",
   "metadata": {
    "scrolled": true
   },
   "outputs": [],
   "source": [
    "def loss_func(preds, target): return -preds[range(len(target)), target[:, 0]].mean()"
   ]
  },
  {
   "cell_type": "code",
   "execution_count": 112,
   "id": "d208a1e0",
   "metadata": {},
   "outputs": [],
   "source": [
    "class Model():\n",
    "    def __init__(self):\n",
    "        super().__init__()\n",
    "        self.layers = [nn.Linear(1, 100), nn.ReLU(), nn.Linear(100, 50), nn.ReLU(), nn.Linear(50, 4), log_softmax]\n",
    "    def __call__(self, x):\n",
    "        for l in self.layers: x = l(x)\n",
    "        return x"
   ]
  },
  {
   "cell_type": "code",
   "execution_count": 134,
   "id": "4a8f615e",
   "metadata": {},
   "outputs": [],
   "source": [
    "model = Model()"
   ]
  },
  {
   "cell_type": "code",
   "execution_count": 135,
   "id": "5a84c6b4",
   "metadata": {},
   "outputs": [
    {
     "name": "stdout",
     "output_type": "stream",
     "text": [
      "tensor(1.587)\n"
     ]
    }
   ],
   "source": [
    "with torch.no_grad(): print(loss_func(model(x), y))"
   ]
  },
  {
   "cell_type": "code",
   "execution_count": 141,
   "id": "28858e72",
   "metadata": {},
   "outputs": [
    {
     "name": "stdout",
     "output_type": "stream",
     "text": [
      "tensor(0.264, grad_fn=<NegBackward0>)\n",
      "tensor(0.263, grad_fn=<NegBackward0>)\n",
      "tensor(0.262, grad_fn=<NegBackward0>)\n",
      "tensor(0.262, grad_fn=<NegBackward0>)\n",
      "tensor(0.261, grad_fn=<NegBackward0>)\n",
      "tensor(0.260, grad_fn=<NegBackward0>)\n",
      "tensor(0.259, grad_fn=<NegBackward0>)\n",
      "tensor(0.258, grad_fn=<NegBackward0>)\n",
      "tensor(0.257, grad_fn=<NegBackward0>)\n",
      "tensor(0.256, grad_fn=<NegBackward0>)\n",
      "tensor(0.256, grad_fn=<NegBackward0>)\n",
      "tensor(0.255, grad_fn=<NegBackward0>)\n",
      "tensor(0.254, grad_fn=<NegBackward0>)\n",
      "tensor(0.253, grad_fn=<NegBackward0>)\n",
      "tensor(0.252, grad_fn=<NegBackward0>)\n",
      "tensor(0.251, grad_fn=<NegBackward0>)\n",
      "tensor(0.251, grad_fn=<NegBackward0>)\n",
      "tensor(0.250, grad_fn=<NegBackward0>)\n",
      "tensor(0.249, grad_fn=<NegBackward0>)\n",
      "tensor(0.248, grad_fn=<NegBackward0>)\n",
      "tensor(0.247, grad_fn=<NegBackward0>)\n",
      "tensor(0.247, grad_fn=<NegBackward0>)\n",
      "tensor(0.246, grad_fn=<NegBackward0>)\n",
      "tensor(0.245, grad_fn=<NegBackward0>)\n",
      "tensor(0.244, grad_fn=<NegBackward0>)\n",
      "tensor(0.243, grad_fn=<NegBackward0>)\n",
      "tensor(0.243, grad_fn=<NegBackward0>)\n",
      "tensor(0.242, grad_fn=<NegBackward0>)\n",
      "tensor(0.241, grad_fn=<NegBackward0>)\n",
      "tensor(0.240, grad_fn=<NegBackward0>)\n",
      "tensor(0.240, grad_fn=<NegBackward0>)\n",
      "tensor(0.239, grad_fn=<NegBackward0>)\n",
      "tensor(0.238, grad_fn=<NegBackward0>)\n",
      "tensor(0.237, grad_fn=<NegBackward0>)\n",
      "tensor(0.237, grad_fn=<NegBackward0>)\n",
      "tensor(0.236, grad_fn=<NegBackward0>)\n",
      "tensor(0.235, grad_fn=<NegBackward0>)\n",
      "tensor(0.234, grad_fn=<NegBackward0>)\n",
      "tensor(0.234, grad_fn=<NegBackward0>)\n",
      "tensor(0.233, grad_fn=<NegBackward0>)\n",
      "tensor(0.232, grad_fn=<NegBackward0>)\n",
      "tensor(0.232, grad_fn=<NegBackward0>)\n",
      "tensor(0.231, grad_fn=<NegBackward0>)\n",
      "tensor(0.230, grad_fn=<NegBackward0>)\n",
      "tensor(0.229, grad_fn=<NegBackward0>)\n",
      "tensor(0.229, grad_fn=<NegBackward0>)\n",
      "tensor(0.228, grad_fn=<NegBackward0>)\n",
      "tensor(0.227, grad_fn=<NegBackward0>)\n",
      "tensor(0.227, grad_fn=<NegBackward0>)\n",
      "tensor(0.226, grad_fn=<NegBackward0>)\n",
      "tensor(0.225, grad_fn=<NegBackward0>)\n",
      "tensor(0.225, grad_fn=<NegBackward0>)\n",
      "tensor(0.224, grad_fn=<NegBackward0>)\n",
      "tensor(0.223, grad_fn=<NegBackward0>)\n",
      "tensor(0.223, grad_fn=<NegBackward0>)\n",
      "tensor(0.222, grad_fn=<NegBackward0>)\n",
      "tensor(0.221, grad_fn=<NegBackward0>)\n",
      "tensor(0.221, grad_fn=<NegBackward0>)\n",
      "tensor(0.220, grad_fn=<NegBackward0>)\n",
      "tensor(0.219, grad_fn=<NegBackward0>)\n",
      "tensor(0.219, grad_fn=<NegBackward0>)\n",
      "tensor(0.218, grad_fn=<NegBackward0>)\n",
      "tensor(0.218, grad_fn=<NegBackward0>)\n",
      "tensor(0.217, grad_fn=<NegBackward0>)\n",
      "tensor(0.216, grad_fn=<NegBackward0>)\n",
      "tensor(0.216, grad_fn=<NegBackward0>)\n",
      "tensor(0.215, grad_fn=<NegBackward0>)\n",
      "tensor(0.215, grad_fn=<NegBackward0>)\n",
      "tensor(0.214, grad_fn=<NegBackward0>)\n",
      "tensor(0.213, grad_fn=<NegBackward0>)\n",
      "tensor(0.213, grad_fn=<NegBackward0>)\n",
      "tensor(0.212, grad_fn=<NegBackward0>)\n",
      "tensor(0.212, grad_fn=<NegBackward0>)\n",
      "tensor(0.211, grad_fn=<NegBackward0>)\n",
      "tensor(0.210, grad_fn=<NegBackward0>)\n",
      "tensor(0.210, grad_fn=<NegBackward0>)\n",
      "tensor(0.209, grad_fn=<NegBackward0>)\n",
      "tensor(0.209, grad_fn=<NegBackward0>)\n",
      "tensor(0.208, grad_fn=<NegBackward0>)\n",
      "tensor(0.207, grad_fn=<NegBackward0>)\n",
      "tensor(0.207, grad_fn=<NegBackward0>)\n",
      "tensor(0.206, grad_fn=<NegBackward0>)\n",
      "tensor(0.206, grad_fn=<NegBackward0>)\n",
      "tensor(0.205, grad_fn=<NegBackward0>)\n",
      "tensor(0.205, grad_fn=<NegBackward0>)\n",
      "tensor(0.204, grad_fn=<NegBackward0>)\n",
      "tensor(0.204, grad_fn=<NegBackward0>)\n",
      "tensor(0.203, grad_fn=<NegBackward0>)\n",
      "tensor(0.202, grad_fn=<NegBackward0>)\n",
      "tensor(0.202, grad_fn=<NegBackward0>)\n",
      "tensor(0.201, grad_fn=<NegBackward0>)\n",
      "tensor(0.201, grad_fn=<NegBackward0>)\n",
      "tensor(0.200, grad_fn=<NegBackward0>)\n",
      "tensor(0.200, grad_fn=<NegBackward0>)\n",
      "tensor(0.199, grad_fn=<NegBackward0>)\n",
      "tensor(0.199, grad_fn=<NegBackward0>)\n",
      "tensor(0.198, grad_fn=<NegBackward0>)\n",
      "tensor(0.198, grad_fn=<NegBackward0>)\n",
      "tensor(0.197, grad_fn=<NegBackward0>)\n",
      "tensor(0.197, grad_fn=<NegBackward0>)\n"
     ]
    }
   ],
   "source": [
    "bs = 20\n",
    "epochs = 10000\n",
    "lr = 2e-3\n",
    "\n",
    "for epoch in range(epochs):\n",
    "    # Shuffle the data\n",
    "    shuffle_idxs = torch.randperm(len(x))\n",
    "    x = x[shuffle_idxs]; y = y[shuffle_idxs]\n",
    "    for i in range(0, len(x), bs):\n",
    "        idxs = slice(i, min(len(x), i+bs))\n",
    "        x_b = x[idxs, :]; y_b = y[idxs, :]\n",
    "\n",
    "        preds = model(x_b)\n",
    "        loss = loss_func(preds, y_b)\n",
    "        loss.backward()\n",
    "        with torch.no_grad():\n",
    "            for l in range(2):\n",
    "                model.layers[2*l].weight -= lr*model.layers[2*l].weight.grad\n",
    "                model.layers[2*l].bias -= lr*model.layers[2*l].bias.grad\n",
    "                model.layers[2*l].weight.grad.zero_()\n",
    "                model.layers[2*l].bias.grad.zero_()\n",
    "    if epoch%100 == 0: print(loss)"
   ]
  },
  {
   "cell_type": "code",
   "execution_count": 142,
   "id": "be2d15ee",
   "metadata": {},
   "outputs": [],
   "source": [
    "test_x = torch.linspace(-5, 5, 1000).view(-1, 1)\n",
    "test_y = torch.tensor(list(map(f, test_x))).view(-1, 1)"
   ]
  },
  {
   "cell_type": "code",
   "execution_count": 143,
   "id": "2bb63fd8",
   "metadata": {},
   "outputs": [
    {
     "data": {
      "text/plain": [
       "([<matplotlib.lines.Line2D at 0x7f671a3d82e0>],\n",
       " [<matplotlib.lines.Line2D at 0x7f671a36ffd0>])"
      ]
     },
     "execution_count": 143,
     "metadata": {},
     "output_type": "execute_result"
    },
    {
     "data": {
      "image/png": "[encoded data removed]",
      "text/plain": [
       "<Figure size 640x480 with 1 Axes>"
      ]
     },
     "metadata": {},
     "output_type": "display_data"
    }
   ],
   "source": [
    "with torch.no_grad():\n",
    "    test_preds = model(test_x).argmax(dim=1)\n",
    "plt.plot(test_x, test_preds), plt.plot(test_x, test_y)"
   ]
  },
  {
   "cell_type": "code",
   "execution_count": null,
   "id": "7477f4e1",
   "metadata": {},
   "outputs": [],
   "source": []
  }
 ],
 "metadata": {
  "kernelspec": {
   "display_name": "Python 3 (ipykernel)",
   "language": "python",
   "name": "python3"
  },
  "language_info": {
   "codemirror_mode": {
    "name": "ipython",
    "version": 3
   },
   "file_extension": ".py",
   "mimetype": "text/x-python",
   "name": "python",
   "nbconvert_exporter": "python",
   "pygments_lexer": "ipython3",
   "version": "3.10.10"
  },
  "toc": {
   "base_numbering": 1,
   "nav_menu": {},
   "number_sections": true,
   "sideBar": true,
   "skip_h1_title": false,
   "title_cell": "Table of Contents",
   "title_sidebar": "Contents",
   "toc_cell": false,
   "toc_position": {},
   "toc_section_display": true,
   "toc_window_display": false
  }
 },
 "nbformat": 4,
 "nbformat_minor": 5
}
