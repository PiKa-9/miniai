{
 "cells": [
  {
   "cell_type": "raw",
   "metadata": {},
   "source": [
    "---\n",
    "{}\n",
    "\n",
    "---\n",
    "\n"
   ]
  },
  {
   "cell_type": "code",
   "execution_count": 1,
   "id": "3d61c2c6",
   "metadata": {},
   "outputs": [],
   "source": [
    "# taken from https://github.com/datapythonista/mnist/blob/master/mnist/__init__.py\n",
    "import os\n",
    "import functools\n",
    "import operator\n",
    "import struct\n",
    "import array\n",
    "import tempfile\n",
    "\n",
    "def parse_idx(fd):\n",
    "    \"\"\"Parse an IDX file, and return it as an array of arrays.\n",
    "    \n",
    "    Parameters\n",
    "    ----------\n",
    "    fd : file\n",
    "        File descriptor of the IDX file to parse\n",
    "    endian : str\n",
    "        Byte order of the IDX file. See [1] for available options\n",
    "    Returns\n",
    "    -------\n",
    "    data : array\n",
    "        Numpy array with the dimensions and the data in the IDX file\n",
    "    1. https://docs.python.org/3/library/struct.html\n",
    "        #byte-order-size-and-alignment\n",
    "    \"\"\"\n",
    "    DATA_TYPES = {0x08: 'B',  # unsigned byte\n",
    "                  0x09: 'b',  # signed byte\n",
    "                  0x0b: 'h',  # short (2 bytes)\n",
    "                  0x0c: 'i',  # int (4 bytes)\n",
    "                  0x0d: 'f',  # float (4 bytes)\n",
    "                  0x0e: 'd'}  # double (8 bytes)\n",
    "\n",
    "    header = fd.read(4)\n",
    "    if len(header) != 4:\n",
    "        raise IdxDecodeError('Invalid IDX file, '\n",
    "                             'file empty or does not contain a full header.')\n",
    "\n",
    "    zeros, data_type, num_dimensions = struct.unpack('>HBB', header)\n",
    "\n",
    "    if zeros != 0:\n",
    "        raise IdxDecodeError('Invalid IDX file, '\n",
    "                             'file must start with two zero bytes. '\n",
    "                             'Found 0x%02x' % zeros)\n",
    "\n",
    "    try:\n",
    "        data_type = DATA_TYPES[data_type]\n",
    "    except KeyError:\n",
    "        raise IdxDecodeError('Unknown data type '\n",
    "                             '0x%02x in IDX file' % data_type)\n",
    "\n",
    "    dimension_sizes = struct.unpack('>' + 'I' * num_dimensions,\n",
    "                                    fd.read(4 * num_dimensions))\n",
    "\n",
    "    data = array.array(data_type, fd.read())\n",
    "    data.byteswap()  # looks like array.array reads data as little endian\n",
    "\n",
    "    expected_items = functools.reduce(operator.mul, dimension_sizes)\n",
    "    if len(data) != expected_items:\n",
    "        raise IdxDecodeError('IDX file has wrong number of items. '\n",
    "                             'Expected: %d. Found: %d' % (expected_items,\n",
    "                                                          len(data)))\n",
    "    return data"
   ]
  },
  {
   "cell_type": "code",
   "execution_count": 13,
   "id": "421b4cf9",
   "metadata": {},
   "outputs": [],
   "source": [
    "from urllib.request import urlretrieve\n",
    "from pathlib import Path\n",
    "import os, pickle, gzip, torch\n",
    "from numba import njit\n",
    "import matplotlib.pyplot as plt\n",
    "import numpy as np\n",
    "\n",
    "import pandas as pd"
   ]
  },
  {
   "cell_type": "code",
   "execution_count": 3,
   "id": "e3486c10",
   "metadata": {},
   "outputs": [],
   "source": [
    "torch.set_printoptions(precision=3, linewidth=100)"
   ]
  },
  {
   "cell_type": "code",
   "execution_count": 4,
   "id": "e935555a",
   "metadata": {},
   "outputs": [],
   "source": [
    "data_url = 'https://github.com/zalandoresearch/fashion-mnist/raw/master/data/fashion/'\n",
    "path = Path('./data/fashion_mnist')\n",
    "if not path.exists(): path.mkdir()\n",
    "\n",
    "filepaths = [path/'fashion_train.pkl.gz', path/'fashion_train_labels.pkl.gz', \n",
    "             path/'fashion_test.pkl.gz', path/'fashion_test_labels.pkl.gz']\n",
    "filenames = ['train-images-idx3-ubyte.gz', 'train-labels-idx1-ubyte.gz', \n",
    "             't10k-images-idx3-ubyte.gz', 't10k-labels-idx1-ubyte.gz']\n",
    "for i in range(4):\n",
    "    if not filepaths[i].exists():\n",
    "        urlretrieve(f'{data_url}{filenames[i]}', filepaths[i])"
   ]
  },
  {
   "cell_type": "code",
   "execution_count": 5,
   "id": "504d50c6",
   "metadata": {},
   "outputs": [],
   "source": [
    "def chunks(l, sz):\n",
    "    for i in range(0, len(l), sz):\n",
    "        yield l[i:i+sz]"
   ]
  },
  {
   "cell_type": "code",
   "execution_count": 6,
   "id": "6ca7afa7",
   "metadata": {},
   "outputs": [],
   "source": [
    "with gzip.open(filepaths[0], 'rb') as f: \n",
    "    X_train = list(iter(chunks(list(parse_idx(f)), 784)))\n",
    "with gzip.open(filepaths[1], 'rb') as f: \n",
    "    y_train = list(parse_idx(f))\n",
    "with gzip.open(filepaths[2], 'rb') as f: \n",
    "    X_valid = list(iter(chunks(list(parse_idx(f)), 784)))\n",
    "with gzip.open(filepaths[3], 'rb') as f: \n",
    "    y_valid = list(parse_idx(f))"
   ]
  },
  {
   "cell_type": "markdown",
   "id": "24da4d42",
   "metadata": {},
   "source": [
    "<br>**Save the data in csv format**"
   ]
  },
  {
   "cell_type": "code",
   "execution_count": 15,
   "id": "26a4af92",
   "metadata": {},
   "outputs": [],
   "source": [
    "train_df = pd.DataFrame(columns = ['label'] + [f'pix_{i}' for i in range(784)])"
   ]
  },
  {
   "cell_type": "code",
   "execution_count": 25,
   "id": "4c84a781",
   "metadata": {},
   "outputs": [],
   "source": [
    "train_df = pd.concat([pd.DataFrame(y_train, columns=['label']), \n",
    "                      pd.DataFrame(X_train, columns=[f'pix_{i}' for i in range(784)])], \n",
    "                      axis=1)"
   ]
  },
  {
   "cell_type": "code",
   "execution_count": 27,
   "id": "39bad6a5",
   "metadata": {},
   "outputs": [],
   "source": [
    "test_df = pd.concat([pd.DataFrame(y_valid, columns=['label']), \n",
    "                      pd.DataFrame(X_valid, columns=[f'pix_{i}' for i in range(784)])], \n",
    "                      axis=1)"
   ]
  },
  {
   "cell_type": "code",
   "execution_count": 36,
   "id": "268571b7",
   "metadata": {},
   "outputs": [],
   "source": [
    "train_df.to_csv('data/fashion_mnist/train.csv')\n",
    "test_df.to_csv('data/fashion_mnist/test.csv')"
   ]
  },
  {
   "cell_type": "markdown",
   "id": "085cb235",
   "metadata": {},
   "source": [
    "<br><br>"
   ]
  },
  {
   "cell_type": "code",
   "execution_count": 43,
   "id": "d7bb8d4b",
   "metadata": {},
   "outputs": [
    {
     "name": "stderr",
     "output_type": "stream",
     "text": [
      "/tmp/ipykernel_523/1639392555.py:1: UserWarning: To copy construct from a tensor, it is recommended to use sourceTensor.clone().detach() or sourceTensor.clone().detach().requires_grad_(True), rather than torch.tensor(sourceTensor).\n",
      "  X_train = (torch.tensor(X_train).float()/255.).view(-1, 28, 28)\n"
     ]
    }
   ],
   "source": [
    "X_train = (torch.tensor(X_train).float()/255.).view(-1, 28, 28)"
   ]
  },
  {
   "cell_type": "code",
   "execution_count": 57,
   "id": "89cfa3cb",
   "metadata": {},
   "outputs": [],
   "source": [
    "y_train = torch.tensor(y_train)"
   ]
  },
  {
   "cell_type": "code",
   "execution_count": 72,
   "id": "6008fd3e",
   "metadata": {},
   "outputs": [
    {
     "data": {
      "image/png": "[encoded data removed]",
      "text/plain": [
       "<Figure size 800x200 with 4 Axes>"
      ]
     },
     "metadata": {},
     "output_type": "display_data"
    }
   ],
   "source": [
    "fig, ax = plt.subplots(1, 4, figsize=(8, 2))\n",
    "ax[0].imshow(X_train[146], cmap='gray')\n",
    "ax[1].imshow(X_train[14], cmap='gray')\n",
    "ax[2].imshow(X_train[142], cmap='gray')\n",
    "ax[3].imshow(X_train[12], cmap='gray')\n",
    "plt.tight_layout()"
   ]
  },
  {
   "cell_type": "code",
   "execution_count": 74,
   "id": "50e6c065",
   "metadata": {},
   "outputs": [
    {
     "data": {
      "text/plain": [
       "(tensor(7), tensor(7))"
      ]
     },
     "execution_count": 74,
     "metadata": {},
     "output_type": "execute_result"
    }
   ],
   "source": [
    "y_train[142], y_train[14]"
   ]
  },
  {
   "cell_type": "code",
   "execution_count": 176,
   "id": "5a59e3c9",
   "metadata": {},
   "outputs": [],
   "source": [
    "a = X_train[:5].view(-1, 784)\n",
    "b = torch.randn(10, 784)"
   ]
  },
  {
   "cell_type": "code",
   "execution_count": 202,
   "id": "9f5fc444",
   "metadata": {},
   "outputs": [],
   "source": [
    "#@njit\n",
    "def dott(a, b):\n",
    "    return (a * b).sum(axis=1)"
   ]
  },
  {
   "cell_type": "code",
   "execution_count": 203,
   "id": "b592106b",
   "metadata": {},
   "outputs": [],
   "source": [
    "def matmul(a, b):\n",
    "    res = torch.zeros(a.shape[0], b.shape[0])\n",
    "    for a_row in range(a.shape[0]):\n",
    "        res[a_row, :] = torch.tensor(dott(a[a_row, None], b))\n",
    "    return res"
   ]
  },
  {
   "cell_type": "code",
   "execution_count": 205,
   "id": "0a567b6c",
   "metadata": {},
   "outputs": [
    {
     "name": "stdout",
     "output_type": "stream",
     "text": [
      "268 µs ± 114 µs per loop (mean ± std. dev. of 7 runs, 10 loops each)\n"
     ]
    }
   ],
   "source": [
    "%timeit -n 10 matmul(a.numpy(), b.numpy())"
   ]
  },
  {
   "cell_type": "code",
   "execution_count": 185,
   "id": "db16d711",
   "metadata": {},
   "outputs": [
    {
     "data": {
      "text/plain": [
       "tensor([[  5.274, -17.956, -29.311,  -9.783, -11.938,   9.562,   7.392,  23.109, -13.251,  22.076],\n",
       "        [ -0.953,  -7.734, -14.233,  -0.742, -23.998,  21.311,  22.677,  27.095,  12.998,  -3.242],\n",
       "        [  0.034,   0.605,  -7.732,  -2.127,  -8.450,  12.408,   3.856,   6.317,   5.109,   3.092],\n",
       "        [ -3.030, -14.136, -13.192, -10.020,  -4.484,  16.212,   4.962,  13.871,  10.524,  12.059],\n",
       "        [ -1.158,  -5.744, -19.946,  -9.635, -21.402,  21.871,  -4.341,  22.201,   8.888,   6.362]])"
      ]
     },
     "execution_count": 185,
     "metadata": {},
     "output_type": "execute_result"
    }
   ],
   "source": [
    "res"
   ]
  },
  {
   "cell_type": "markdown",
   "id": "9e0fafda",
   "metadata": {},
   "source": [
    "<br><br>"
   ]
  },
  {
   "cell_type": "code",
   "execution_count": 3,
   "id": "fc3298bb",
   "metadata": {},
   "outputs": [],
   "source": [
    "a = torch.rand(100, 20)\n",
    "b = torch.randn(20, 256)"
   ]
  },
  {
   "cell_type": "code",
   "execution_count": 16,
   "id": "e7d7fe4e",
   "metadata": {},
   "outputs": [],
   "source": [
    "res = torch.einsum('ij,jk->ik', a, b)"
   ]
  },
  {
   "cell_type": "code",
   "execution_count": 17,
   "id": "e3d0a6ef",
   "metadata": {},
   "outputs": [
    {
     "data": {
      "text/plain": [
       "tensor([[-0.069, -1.840, -3.844,  ...,  1.044,  1.117, -0.688],\n",
       "        [ 1.965, -1.411, -4.161,  ...,  1.722,  0.890, -2.254],\n",
       "        [ 1.887, -0.979, -3.959,  ...,  0.350,  1.437, -0.290],\n",
       "        ...,\n",
       "        [-1.636, -1.790, -4.870,  ..., -1.367, -4.176, -0.533],\n",
       "        [ 1.993, -4.537, -0.823,  ...,  1.024,  0.129, -2.312],\n",
       "        [-3.295,  0.539, -6.113,  ...,  1.275, -2.501,  2.644]])"
      ]
     },
     "execution_count": 17,
     "metadata": {},
     "output_type": "execute_result"
    }
   ],
   "source": [
    "res"
   ]
  },
  {
   "cell_type": "code",
   "execution_count": null,
   "id": "0ab94424",
   "metadata": {},
   "outputs": [],
   "source": []
  }
 ],
 "metadata": {
  "kernelspec": {
   "display_name": "Python 3 (ipykernel)",
   "language": "python",
   "name": "python3"
  },
  "language_info": {
   "codemirror_mode": {
    "name": "ipython",
    "version": 3
   },
   "file_extension": ".py",
   "mimetype": "text/x-python",
   "name": "python",
   "nbconvert_exporter": "python",
   "pygments_lexer": "ipython3",
   "version": "3.10.10"
  },
  "toc": {
   "base_numbering": 1,
   "nav_menu": {},
   "number_sections": true,
   "sideBar": true,
   "skip_h1_title": false,
   "title_cell": "Table of Contents",
   "title_sidebar": "Contents",
   "toc_cell": false,
   "toc_position": {},
   "toc_section_display": true,
   "toc_window_display": false
  }
 },
 "nbformat": 4,
 "nbformat_minor": 5
}
