{
 "cells": [
  {
   "cell_type": "raw",
   "metadata": {},
   "source": [
    "---\n",
    "{}\n",
    "\n",
    "---\n",
    "\n"
   ]
  },
  {
   "cell_type": "code",
   "execution_count": 26,
   "id": "63dc74c6",
   "metadata": {},
   "outputs": [],
   "source": [
    "import ipywidgets as widgets\n",
    "from time import sleep\n",
    "from functools import partial"
   ]
  },
  {
   "cell_type": "code",
   "execution_count": 17,
   "id": "e7cf9e9f",
   "metadata": {},
   "outputs": [],
   "source": [
    "w = widgets.Button(description='Click')"
   ]
  },
  {
   "cell_type": "code",
   "execution_count": 19,
   "id": "d84e67b4",
   "metadata": {},
   "outputs": [],
   "source": [
    "def w_callback(o):\n",
    "    print('Hi')"
   ]
  },
  {
   "cell_type": "code",
   "execution_count": 20,
   "id": "c4d65bae",
   "metadata": {},
   "outputs": [],
   "source": [
    "w.on_click(w_callback)"
   ]
  },
  {
   "cell_type": "code",
   "execution_count": 18,
   "id": "4b075194",
   "metadata": {},
   "outputs": [
    {
     "data": {
      "application/vnd.jupyter.widget-view+json": {
       "model_id": "5468d81e2c704a599402c2830d9c99c2",
       "version_major": 2,
       "version_minor": 0
      },
      "text/plain": [
       "Button(description='Click', style=ButtonStyle())"
      ]
     },
     "execution_count": 18,
     "metadata": {},
     "output_type": "execute_result"
    },
    {
     "name": "stdout",
     "output_type": "stream",
     "text": [
      "Hi\n",
      "Hi\n",
      "Hi\n",
      "Hi\n",
      "Hi\n"
     ]
    }
   ],
   "source": [
    "w"
   ]
  },
  {
   "cell_type": "code",
   "execution_count": 40,
   "id": "221ba7ba",
   "metadata": {},
   "outputs": [],
   "source": [
    "def train(cb=None):\n",
    "    res = 0\n",
    "    for i in range(10):\n",
    "        if hasattr(cb, 'before_calc'): cb.before_calc(i)\n",
    "        sleep(1)\n",
    "        res += i*8\n",
    "        if hasattr(cb, 'after_calc'): cb.after_calc(i, val=res)\n",
    "        \n",
    "    return res"
   ]
  },
  {
   "cell_type": "code",
   "execution_count": 45,
   "id": "0cdc1038",
   "metadata": {},
   "outputs": [],
   "source": [
    "class Callback():\n",
    "    def __init__(self, s): self.s = s\n",
    "    #def before_calc(self, *args, **kwargs): print(f'{self.s} ')\n",
    "    def after_calc(self, *args, **kwargs): print(f\"{self.s} Epoch {args[0]}, res={kwargs['val']}\")"
   ]
  },
  {
   "cell_type": "code",
   "execution_count": 46,
   "id": "4bda3395",
   "metadata": {},
   "outputs": [
    {
     "name": "stdout",
     "output_type": "stream",
     "text": [
      "Super Epoch 0, res=0\n",
      "Super Epoch 1, res=8\n",
      "Super Epoch 2, res=24\n",
      "Super Epoch 3, res=48\n",
      "Super Epoch 4, res=80\n",
      "Super Epoch 5, res=120\n",
      "Super Epoch 6, res=168\n",
      "Super Epoch 7, res=224\n",
      "Super Epoch 8, res=288\n",
      "Super Epoch 9, res=360\n"
     ]
    },
    {
     "data": {
      "text/plain": [
       "360"
      ]
     },
     "execution_count": 46,
     "metadata": {},
     "output_type": "execute_result"
    }
   ],
   "source": [
    "train(Callback('Super'))"
   ]
  },
  {
   "cell_type": "code",
   "execution_count": 36,
   "id": "cad243fc",
   "metadata": {},
   "outputs": [],
   "source": [
    "object??"
   ]
  },
  {
   "cell_type": "code",
   "execution_count": null,
   "id": "b94bd9b6",
   "metadata": {},
   "outputs": [],
   "source": []
  }
 ],
 "metadata": {
  "kernelspec": {
   "display_name": "Python 3 (ipykernel)",
   "language": "python",
   "name": "python3"
  },
  "language_info": {
   "codemirror_mode": {
    "name": "ipython",
    "version": 3
   },
   "file_extension": ".py",
   "mimetype": "text/x-python",
   "name": "python",
   "nbconvert_exporter": "python",
   "pygments_lexer": "ipython3",
   "version": "3.10.10"
  },
  "toc": {
   "base_numbering": 1,
   "nav_menu": {},
   "number_sections": true,
   "sideBar": true,
   "skip_h1_title": false,
   "title_cell": "Table of Contents",
   "title_sidebar": "Contents",
   "toc_cell": false,
   "toc_position": {},
   "toc_section_display": true,
   "toc_window_display": false
  }
 },
 "nbformat": 4,
 "nbformat_minor": 5
}
