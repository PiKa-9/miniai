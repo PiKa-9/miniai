{
 "cells": [
  {
   "cell_type": "raw",
   "metadata": {},
   "source": [
    "---\n",
    "{}\n",
    "\n",
    "---\n",
    "\n"
   ]
  },
  {
   "cell_type": "code",
   "execution_count": 10,
   "id": "2ec6521c",
   "metadata": {},
   "outputs": [],
   "source": [
    "from miniai.img_plotting import *\n",
    "from miniai.training import *\n",
    "from miniai.conv import *\n",
    "import torch, torch.nn as nn, torch.nn.functional as F\n",
    "from torch import tensor, optim\n",
    "from torch.utils.data import DataLoader\n",
    "import numpy as np, pandas as pd, matplotlib.pyplot as plt, matplotlib as mpl\n",
    "\n",
    "mpl.rcParams['image.cmap'] = 'Greys'\n",
    "torch.set_printoptions(precision=2, linewidth=100)"
   ]
  },
  {
   "cell_type": "code",
   "execution_count": 11,
   "id": "b33bbfc6",
   "metadata": {},
   "outputs": [],
   "source": [
    "data = pd.read_csv('data/fashion_mnist/train.csv')"
   ]
  },
  {
   "cell_type": "code",
   "execution_count": 12,
   "id": "dbd6636e",
   "metadata": {},
   "outputs": [],
   "source": [
    "X_train = tensor(data.iloc[:50000, 1:].values)\n",
    "y_train = tensor(data.iloc[:50000, 0].values)\n",
    "X_valid = tensor(data.iloc[50000:, 1:].values)\n",
    "y_valid = tensor(data.iloc[50000:, 0].values)"
   ]
  },
  {
   "cell_type": "code",
   "execution_count": 13,
   "id": "df31a503",
   "metadata": {},
   "outputs": [],
   "source": [
    "dset_train = Dataset((X_train/255. ).view(-1, 1, 28, 28), y_train)\n",
    "dset_valid = Dataset((X_valid/255. ).view(-1, 1, 28, 28), y_valid)"
   ]
  },
  {
   "cell_type": "code",
   "execution_count": 14,
   "id": "13a40312",
   "metadata": {},
   "outputs": [],
   "source": [
    "dl_train = DataLoader(dset_train, batch_size=64, shuffle=True)\n",
    "dl_valid = DataLoader(dset_valid, batch_size=len(dset_valid), shuffle=False)"
   ]
  },
  {
   "cell_type": "code",
   "execution_count": 20,
   "id": "b29cd9db",
   "metadata": {
    "collapsed": true
   },
   "outputs": [
    {
     "data": {
      "text/plain": [
       "<Axes: >"
      ]
     },
     "execution_count": 20,
     "metadata": {},
     "output_type": "execute_result"
    },
    {
     "data": {
      "image/png": "[encoded data removed]",
      "text/plain": [
       "<Figure size 150x150 with 1 Axes>"
      ]
     },
     "metadata": {},
     "output_type": "display_data"
    }
   ],
   "source": [
    "show_image(next(iter(dl_train))[0][0], shape=[28, 28])"
   ]
  },
  {
   "cell_type": "markdown",
   "id": "a890d79f",
   "metadata": {},
   "source": [
    "<br>**Model**"
   ]
  },
  {
   "cell_type": "code",
   "execution_count": 23,
   "id": "b953ac0e",
   "metadata": {},
   "outputs": [],
   "source": [
    "def deconv(in_f, out_f, ks=3, act=None):\n",
    "    layers = [\n",
    "        nn.UpsamplingNearest2d(scale_factor=2),\n",
    "        nn.Conv2d(in_f, out_f, ks, stride=1, padding=ks//2)\n",
    "    ]\n",
    "    if act != None: layers.append(act)\n",
    "    return nn.Sequential(*layers)"
   ]
  },
  {
   "cell_type": "code",
   "execution_count": 35,
   "id": "b39c094a",
   "metadata": {},
   "outputs": [],
   "source": [
    "def train_autoencoder(epochs, lr, opt, model, loss_func, dl_train, dl_valid, eval_freq=1):\n",
    "    for epoch in range(epochs):\n",
    "        # Loop through batches\n",
    "        loss_sum, cnt = 0, 0\n",
    "        for X_b, y_b in dl_train:\n",
    "            # Get the gradients by calculating the loss\n",
    "            preds = model(X_b)\n",
    "            loss = loss_func(preds, X_b)\n",
    "            loss.backward()\n",
    "            # For model evaluation\n",
    "            with torch.no_grad(): \n",
    "                loss_sum += loss.item(); cnt += 1\n",
    "            # Update the weights\n",
    "            opt.step()\n",
    "            opt.zero_grad()\n",
    "        # Evaluate the model\n",
    "        if epoch%eval_freq == 0: \n",
    "            train_loss = loss_sum/cnt; loss_sum, cnt = 0, 0;\n",
    "            for X_b, y_b in dl_valid:\n",
    "                with torch.no_grad():\n",
    "                    preds = model(X_b)\n",
    "                    loss_sum += loss_func(preds, X_b).item(); cnt += 1\n",
    "            valid_loss = loss_sum/cnt \n",
    "            print(f'{train_loss:.4f}\\t{valid_loss:.4f}')"
   ]
  },
  {
   "cell_type": "code",
   "execution_count": 47,
   "id": "020a6115",
   "metadata": {},
   "outputs": [],
   "source": [
    "model = nn.Sequential(\n",
    "    conv(1, 4, act=nn.ReLU()), #14×14\n",
    "    conv(4, 8, act=nn.ReLU()), #7×7\n",
    "    conv(8, 16, act=nn.ReLU()), #4×4\n",
    "    deconv(16, 8, act=nn.ReLU()), #8×8\n",
    "    deconv(8, 4, act=nn.ReLU()), #16×16\n",
    "    deconv(4, 1, act=nn.ReLU()), #32×32\n",
    "    nn.ZeroPad2d(-2), #28×28\n",
    ")"
   ]
  },
  {
   "cell_type": "code",
   "execution_count": 62,
   "id": "fbc1cec6",
   "metadata": {},
   "outputs": [
    {
     "name": "stdout",
     "output_type": "stream",
     "text": [
      "0.0535\t0.0521\n",
      "0.0521\t0.0522\n",
      "0.0518\t0.0582\n"
     ]
    }
   ],
   "source": [
    "lr = 6e-3\n",
    "opt = optim.Adam(model.parameters(), lr)\n",
    "train_autoencoder(3, lr, opt, model, F.l1_loss, dl_train, dl_valid)"
   ]
  },
  {
   "cell_type": "code",
   "execution_count": 63,
   "id": "b6587965",
   "metadata": {},
   "outputs": [],
   "source": [
    "X_b = next(iter(dl_valid))[0][:10]"
   ]
  },
  {
   "cell_type": "code",
   "execution_count": 66,
   "id": "8c1eca26",
   "metadata": {},
   "outputs": [
    {
     "data": {
      "image/png": "[encoded data removed]",
      "text/plain": [
       "<Figure size 800x600 with 12 Axes>"
      ]
     },
     "metadata": {},
     "output_type": "display_data"
    }
   ],
   "source": [
    "show_images([X_b[i] for i in range(X_b.shape[0])], shape=[28, 28], n=X_b.shape[0])"
   ]
  },
  {
   "cell_type": "code",
   "execution_count": 64,
   "id": "80837fa9",
   "metadata": {},
   "outputs": [
    {
     "data": {
      "text/plain": [
       "torch.Size([10, 1, 28, 28])"
      ]
     },
     "execution_count": 64,
     "metadata": {},
     "output_type": "execute_result"
    }
   ],
   "source": [
    "X_b.shape"
   ]
  },
  {
   "cell_type": "code",
   "execution_count": 65,
   "id": "e09b50dd",
   "metadata": {},
   "outputs": [
    {
     "data": {
      "image/png": "[encoded data removed]",
      "text/plain": [
       "<Figure size 800x600 with 12 Axes>"
      ]
     },
     "metadata": {},
     "output_type": "display_data"
    }
   ],
   "source": [
    "with torch.no_grad(): preds = model(X_b)\n",
    "show_images([preds[i] for i in range(preds.shape[0])], shape=[28, 28], n=preds.shape[0])"
   ]
  },
  {
   "cell_type": "code",
   "execution_count": 61,
   "id": "3a927b08",
   "metadata": {},
   "outputs": [],
   "source": [
    "show_images??"
   ]
  },
  {
   "cell_type": "code",
   "execution_count": null,
   "id": "440cf3cd",
   "metadata": {},
   "outputs": [],
   "source": []
  }
 ],
 "metadata": {
  "kernelspec": {
   "display_name": "Python 3 (ipykernel)",
   "language": "python",
   "name": "python3"
  },
  "language_info": {
   "codemirror_mode": {
    "name": "ipython",
    "version": 3
   },
   "file_extension": ".py",
   "mimetype": "text/x-python",
   "name": "python",
   "nbconvert_exporter": "python",
   "pygments_lexer": "ipython3",
   "version": "3.10.10"
  },
  "toc": {
   "base_numbering": 1,
   "nav_menu": {},
   "number_sections": true,
   "sideBar": true,
   "skip_h1_title": false,
   "title_cell": "Table of Contents",
   "title_sidebar": "Contents",
   "toc_cell": false,
   "toc_position": {},
   "toc_section_display": true,
   "toc_window_display": false
  }
 },
 "nbformat": 4,
 "nbformat_minor": 5
}
