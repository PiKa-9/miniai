{
 "cells": [
  {
   "cell_type": "code",
   "execution_count": 1,
   "id": "99de1a61",
   "metadata": {},
   "outputs": [],
   "source": [
    "#|default_exp learner"
   ]
  },
  {
   "cell_type": "code",
   "execution_count": 2,
   "id": "43da0aa7",
   "metadata": {},
   "outputs": [],
   "source": [
    "#|export\n",
    "import torch, torch.nn as nn, torch.nn.functional as F\n",
    "from torch import tensor, optim\n",
    "import numpy as np, pandas as pd, matplotlib.pyplot as plt, matplotlib as mpl, math\n",
    "import fastcore.all as fc\n",
    "from operator import attrgetter\n",
    "from collections.abc import Mapping\n",
    "from functools import partial\n",
    "from miniai.callbacks import *\n",
    "from miniai.hooks import Hooks"
   ]
  },
  {
   "cell_type": "code",
   "execution_count": 3,
   "id": "ebdf7a82",
   "metadata": {},
   "outputs": [],
   "source": [
    "from miniai.data import *\n",
    "from torch.utils.data import DataLoader\n",
    "from miniai.plotting import *\n",
    "from miniai.callbacks import *\n",
    "from miniai.custom_modules import conv\n",
    "from torcheval.metrics import MulticlassAccuracy\n",
    "from tqdm import tqdm\n",
    "\n",
    "mpl.rcParams['image.cmap'] = 'Greys'\n",
    "torch.set_printoptions(precision=2, linewidth=100)"
   ]
  },
  {
   "cell_type": "code",
   "execution_count": 4,
   "id": "94a0fdc7",
   "metadata": {},
   "outputs": [],
   "source": [
    "data = pd.read_csv('data/fashion_mnist/train.csv')"
   ]
  },
  {
   "cell_type": "code",
   "execution_count": 5,
   "id": "a9c8c507",
   "metadata": {},
   "outputs": [],
   "source": [
    "X_train = tensor(data.iloc[:50000, 1:].values)\n",
    "y_train = tensor(data.iloc[:50000, 0].values)\n",
    "X_valid = tensor(data.iloc[50000:, 1:].values)\n",
    "y_valid = tensor(data.iloc[50000:, 0].values)"
   ]
  },
  {
   "cell_type": "code",
   "execution_count": 6,
   "id": "86852c9d",
   "metadata": {},
   "outputs": [],
   "source": [
    "dset_train = Dataset((X_train[:5000]/255. ).view(-1, 1, 28, 28), y_train[:5000])\n",
    "dset_valid = Dataset((X_valid[:500]/255. ).view(-1, 1, 28, 28), y_valid[:500])"
   ]
  },
  {
   "cell_type": "code",
   "execution_count": 7,
   "id": "cdbbd7a5",
   "metadata": {},
   "outputs": [],
   "source": [
    "dl_train = DataLoader(dset_train, batch_size=64, shuffle=True)\n",
    "dl_valid = DataLoader(dset_valid, batch_size=len(dset_valid), shuffle=False)"
   ]
  },
  {
   "cell_type": "code",
   "execution_count": 8,
   "id": "b5f2d7ff",
   "metadata": {},
   "outputs": [],
   "source": [
    "dls = DataLoaders(dl_train, dl_valid)"
   ]
  },
  {
   "cell_type": "markdown",
   "id": "cfb0644f",
   "metadata": {},
   "source": [
    "<br><br> **Learner with callbacks**"
   ]
  },
  {
   "cell_type": "code",
   "execution_count": 9,
   "id": "854b6627",
   "metadata": {},
   "outputs": [],
   "source": [
    "#|export\n",
    "class Learner:\n",
    "    def __init__(self, dls, model, loss_func, opt_func=optim.Adam, lr=None, cbs=[]): \n",
    "        fc.store_attr()\n",
    "        \n",
    "    @with_cbs('batch')\n",
    "    def _one_batch(self):\n",
    "        # Get the gradients by calculating the loss\n",
    "        self.predict()\n",
    "        self.get_loss()\n",
    "        # Update the weights\n",
    "        if self.training:\n",
    "            self.backward()\n",
    "            self.step()\n",
    "            self.zero_grad()\n",
    "            \n",
    "    @with_cbs('epoch')\n",
    "    def _one_epoch(self):\n",
    "        for self.batch_iter, self.batch in enumerate(self.dl): self._one_batch()\n",
    "    \n",
    "    @with_cbs('fit')\n",
    "    def _fit(self):\n",
    "        for self.epoch in self.epochs:\n",
    "            self.one_epoch(True)\n",
    "            with torch.no_grad(): self.one_epoch(False)\n",
    "    \n",
    "    def one_epoch(self, train):\n",
    "        self.model.train(train)\n",
    "        self.training = train\n",
    "        self.dl = self.dls.train if train else self.dls.valid\n",
    "        self._one_epoch()\n",
    "\n",
    "    def fit(self, epochs, lr=None, cbs=None):\n",
    "        if (lr != None): self.lr = lr\n",
    "        if (cbs != None): orig_cbs = self.cbs; self.cbs = cbs\n",
    "        self.opt = self.opt_func(self.model.parameters(), self.lr)\n",
    "        self.epochs = range(epochs)\n",
    "        self._fit()\n",
    "        if (cbs != None): self.cbs = orig_cbs\n",
    "            \n",
    "    def callback(self, method_nm): run_cbs(self.cbs, method_nm, self)\n",
    "        \n",
    "    def __getattr__(self, nm):\n",
    "        if nm in ['predict', 'get_loss', 'backward', 'step', 'zero_grad']: return partial(self.callback, nm)\n",
    "        raise AttributeError(nm)\n",
    "    \n",
    "    def lr_find(self, start_lr=1e-7, coef=1.3):\n",
    "        lr_finder = LRFinderCB(coef)\n",
    "        self.fit(1, start_lr, cbs=[TrainCB(), lr_finder, MetricCB(), ProgressCB()])\n",
    "        lr_finder.plot();"
   ]
  },
  {
   "cell_type": "code",
   "execution_count": 10,
   "id": "81eb2c49",
   "metadata": {},
   "outputs": [],
   "source": [
    "#|export\n",
    "class TrainLearner(Learner):\n",
    "    def predict(self): self.preds = self.model(self.batch[0])\n",
    "    def get_loss(self): self.loss = self.loss_func(self.preds, self.batch[1])\n",
    "    def backward(self): self.loss.backward()\n",
    "    def step(self): self.opt.step()\n",
    "    def zero_grad(self): self.opt.zero_grad()"
   ]
  },
  {
   "cell_type": "code",
   "execution_count": 11,
   "id": "02702f18",
   "metadata": {},
   "outputs": [],
   "source": [
    "#|export\n",
    "class MomentumLearner(TrainLearner):\n",
    "    def __init__(self, dls, model, loss_func, opt=optim.Adam, lr=None, cbs=[], mom=0.85):\n",
    "        super(TrainLearner, self).__init__(dls, model, loss_func, opt_func=opt, lr=lr, cbs=cbs)\n",
    "        self.mom = mom\n",
    "\n",
    "    def zero_grad(self): \n",
    "        with torch.no_grad():\n",
    "            for p in self.model.parameters(): p.grad = p.grad*self.mom"
   ]
  },
  {
   "cell_type": "code",
   "execution_count": 12,
   "id": "ebe22429",
   "metadata": {},
   "outputs": [],
   "source": [
    "lr_find_model = nn.Sequential(\n",
    "    conv(1, 32, act=nn.ReLU()), #14×14\n",
    "    conv(32, 64, act=nn.ReLU()), #7×7\n",
    "    conv(64, 128, act=nn.ReLU()), #4×4\n",
    "    conv(128, 256, act=nn.ReLU()), #2×2\n",
    "    conv(256, 10, act=None), #1×1\n",
    "    nn.Flatten()\n",
    ")"
   ]
  },
  {
   "cell_type": "code",
   "execution_count": 13,
   "id": "e4fe4c5b",
   "metadata": {},
   "outputs": [],
   "source": [
    "model = nn.Sequential(\n",
    "    conv(1, 32, act=nn.ReLU()), #14×14\n",
    "    conv(32, 64, act=nn.ReLU()), #7×7\n",
    "    conv(64, 128, act=nn.ReLU()), #4×4\n",
    "    conv(128, 256, act=nn.ReLU()), #2×2\n",
    "    conv(256, 10, act=None), #1×1\n",
    "    nn.Flatten()\n",
    ")"
   ]
  },
  {
   "cell_type": "code",
   "execution_count": 15,
   "id": "6aeace43",
   "metadata": {},
   "outputs": [],
   "source": [
    "metrics = MetricCB(accuracy=MulticlassAccuracy())\n",
    "learn = MomentumLearner(dls, model, F.cross_entropy, optim.Adam, cbs=[metrics, ProgressCB()])"
   ]
  },
  {
   "cell_type": "code",
   "execution_count": 16,
   "id": "5a11de32",
   "metadata": {},
   "outputs": [
    {
     "data": {
      "text/html": [
       "\n",
       "<style>\n",
       "    /* Turns off some styling */\n",
       "    progress {\n",
       "        /* gets rid of default border in Firefox and Opera. */\n",
       "        border: none;\n",
       "        /* Needs to be in here for Safari polyfill so background images work as expected. */\n",
       "        background-size: auto;\n",
       "    }\n",
       "    progress:not([value]), progress:not([value])::-webkit-progress-bar {\n",
       "        background: repeating-linear-gradient(45deg, #7e7e7e, #7e7e7e 10px, #5c5c5c 10px, #5c5c5c 20px);\n",
       "    }\n",
       "    .progress-bar-interrupted, .progress-bar-interrupted::-webkit-progress-bar {\n",
       "        background: #F44336;\n",
       "    }\n",
       "</style>\n"
      ],
      "text/plain": [
       "<IPython.core.display.HTML object>"
      ]
     },
     "metadata": {},
     "output_type": "display_data"
    },
    {
     "data": {
      "text/html": [
       "<table border=\"1\" class=\"dataframe\">\n",
       "  <thead>\n",
       "    <tr style=\"text-align: left;\">\n",
       "      <th>epoch</th>\n",
       "      <th>train_loss</th>\n",
       "      <th>valid_loss</th>\n",
       "      <th>accuracy</th>\n",
       "    </tr>\n",
       "  </thead>\n",
       "  <tbody>\n",
       "    <tr>\n",
       "      <td>0</td>\n",
       "      <td>1.517</td>\n",
       "      <td>1.335</td>\n",
       "      <td>0.512</td>\n",
       "    </tr>\n",
       "    <tr>\n",
       "      <td>1</td>\n",
       "      <td>1.062</td>\n",
       "      <td>0.943</td>\n",
       "      <td>0.64</td>\n",
       "    </tr>\n",
       "  </tbody>\n",
       "</table>"
      ],
      "text/plain": [
       "<IPython.core.display.HTML object>"
      ]
     },
     "metadata": {},
     "output_type": "display_data"
    }
   ],
   "source": [
    "learn.fit(2, 5e-3)"
   ]
  },
  {
   "cell_type": "code",
   "execution_count": null,
   "id": "007bc936",
   "metadata": {},
   "outputs": [],
   "source": []
  },
  {
   "cell_type": "code",
   "execution_count": 18,
   "id": "2107bbf7",
   "metadata": {},
   "outputs": [],
   "source": [
    "#|export\n",
    "def _flops(x, h, w):\n",
    "    if x.dim()<3: return x.numel()\n",
    "    if x.dim()==4: return x.numel()*h*w\n",
    "    \n",
    "@fc.patch\n",
    "def summary(self:Learner):\n",
    "        res = f'|Module|Input shape|Output shape|Param count|MFLOPS|\\n|--|--|--|--|--|\\n'\n",
    "        total_params = 0; total_MFLOPS = 0\n",
    "        def _get_summary(hook, mod, inp, out):\n",
    "            nonlocal res, total_params, total_MFLOPS\n",
    "            param_cnt = 0; flops = 0\n",
    "            for p in mod.parameters():\n",
    "                param_cnt += torch.numel(p)\n",
    "                flops += _flops(p, out.shape[-2], out.shape[-1])\n",
    "            flops /= 1e6\n",
    "            res += f'|{type(mod).__name__:14}|{str(list(inp[0].shape)):20}|{str(list(out.shape)):16}|{param_cnt}|{flops:.1f}|\\n'\n",
    "            total_params += param_cnt; total_MFLOPS += flops\n",
    "        with Hooks(self.model, _get_summary) as hooks: self.model(next(iter(self.dls.train))[0])\n",
    "        if fc.IN_NOTEBOOK:\n",
    "            from IPython.display import Markdown\n",
    "            return Markdown(res + f'|--|--|--|{total_params}|{total_MFLOPS:.1f}|\\n')\n",
    "        else: print(res + f'|--|--|--|{total_params}|{total_MFLOPS:1.f}|\\n')"
   ]
  },
  {
   "cell_type": "code",
   "execution_count": 19,
   "id": "24edb025",
   "metadata": {},
   "outputs": [],
   "source": [
    "#|export\n",
    "@fc.patch\n",
    "def show_batch_images(self:Learner, n=None, **kwargs):\n",
    "    batch = next(iter(self.dls.train))\n",
    "    if n is None: n = batch[0].shape[0]\n",
    "    show_images(batch[0][:n], titles=batch[1].tolist(), **kwargs);"
   ]
  },
  {
   "cell_type": "code",
   "execution_count": 21,
   "id": "d66d1a09",
   "metadata": {},
   "outputs": [],
   "source": [
    "import nbdev; nbdev.nbdev_export()"
   ]
  },
  {
   "cell_type": "code",
   "execution_count": null,
   "id": "720a25dc",
   "metadata": {},
   "outputs": [],
   "source": []
  }
 ],
 "metadata": {
  "kernelspec": {
   "display_name": "Python 3 (ipykernel)",
   "language": "python",
   "name": "python3"
  },
  "language_info": {
   "codemirror_mode": {
    "name": "ipython",
    "version": 3
   },
   "file_extension": ".py",
   "mimetype": "text/x-python",
   "name": "python",
   "nbconvert_exporter": "python",
   "pygments_lexer": "ipython3",
   "version": "3.10.10"
  },
  "toc": {
   "base_numbering": 1,
   "nav_menu": {},
   "number_sections": true,
   "sideBar": true,
   "skip_h1_title": false,
   "title_cell": "Table of Contents",
   "title_sidebar": "Contents",
   "toc_cell": false,
   "toc_position": {},
   "toc_section_display": true,
   "toc_window_display": false
  }
 },
 "nbformat": 4,
 "nbformat_minor": 5
}
