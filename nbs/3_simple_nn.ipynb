{
 "cells": [
  {
   "cell_type": "raw",
   "metadata": {},
   "source": [
    "---\n",
    "{}\n",
    "\n",
    "---\n",
    "\n"
   ]
  },
  {
   "cell_type": "code",
   "execution_count": 70,
   "id": "25c7464c",
   "metadata": {},
   "outputs": [],
   "source": [
    "import numpy as np\n",
    "import torch\n",
    "from torch import tensor\n",
    "import matplotlib.pyplot as plt, seaborn as sns\n",
    "sns.set()\n",
    "torch.set_printoptions(precision=3, linewidth=100)"
   ]
  },
  {
   "cell_type": "code",
   "execution_count": 58,
   "id": "57ca07da",
   "metadata": {},
   "outputs": [],
   "source": [
    "def f(x): return x**3 - 2*x**2 + 1\n",
    "x = torch.linspace(-5, 5, 1000)\n",
    "y = torch.tensor(list(map(f, x)))"
   ]
  },
  {
   "cell_type": "code",
   "execution_count": 59,
   "id": "e189a8ca",
   "metadata": {},
   "outputs": [
    {
     "data": {
      "text/plain": [
       "[<matplotlib.lines.Line2D at 0x7f5233919c00>]"
      ]
     },
     "execution_count": 59,
     "metadata": {},
     "output_type": "execute_result"
    },
    {
     "data": {
      "image/png": "[encoded data removed]",
      "text/plain": [
       "<Figure size 640x480 with 1 Axes>"
      ]
     },
     "metadata": {},
     "output_type": "display_data"
    }
   ],
   "source": [
    "plt.plot(x, y)"
   ]
  },
  {
   "cell_type": "code",
   "execution_count": 60,
   "id": "13c3ecfa",
   "metadata": {},
   "outputs": [],
   "source": [
    "x = x[:, None]; y = y[:, None]"
   ]
  },
  {
   "cell_type": "markdown",
   "id": "b1fcbcab",
   "metadata": {},
   "source": [
    "<br><br> **NN arch** <br>\n",
    "1 → 50 → 1"
   ]
  },
  {
   "cell_type": "code",
   "execution_count": 46,
   "id": "dcfedcb7",
   "metadata": {},
   "outputs": [],
   "source": [
    "class Lin():\n",
    "    def __init__(self, w, b):\n",
    "        self.w = w; self.b = b;\n",
    "    def __call__(self, inp):\n",
    "        self.inp = inp; self.out = inp@self.w + self.b\n",
    "        return self.out\n",
    "    def backward(self):\n",
    "        self.w.grad = self.inp.T @ self.out.grad\n",
    "        self.b.grad = self.out.grad.sum(dim=0)\n",
    "        self.inp.grad = self.out.grad @ self.w.T"
   ]
  },
  {
   "cell_type": "code",
   "execution_count": 9,
   "id": "06f4b20c",
   "metadata": {},
   "outputs": [],
   "source": [
    "class Relu():\n",
    "    def __call__(self, inp): \n",
    "        self.inp = inp; self.out = inp.clamp_min(0.); \n",
    "        return self.out\n",
    "    def backward(self): self.inp.grad = (self.inp > 0).float() * self.out.grad"
   ]
  },
  {
   "cell_type": "code",
   "execution_count": 41,
   "id": "28222b59",
   "metadata": {},
   "outputs": [],
   "source": [
    "class MSE():\n",
    "    def __call__(self, preds, target):\n",
    "        self.inp = preds; self.targ = target; self.out = ((preds - target)**2).mean()\n",
    "        return self.out\n",
    "    def backward(self):\n",
    "        self.inp.grad = 1/len(self.inp)*2*(self.inp - self.targ)"
   ]
  },
  {
   "cell_type": "code",
   "execution_count": 57,
   "id": "2551113c",
   "metadata": {},
   "outputs": [],
   "source": [
    "class Model():\n",
    "    def __init__(self, w1, b1, w2, b2):\n",
    "        self.layers = [Lin(w1, b1), Relu(), Lin(w2, b2)]\n",
    "        self.loss_func = MSE()\n",
    "    def __call__(self, x, targ=None):\n",
    "        for l in self.layers:\n",
    "            x = l(x)\n",
    "        if targ != None: self.loss = self.loss_func(x, targ)\n",
    "        return x, self.loss\n",
    "    def backward(self):\n",
    "        self.loss_func.backward()\n",
    "        for l in self.layers[::-1]:\n",
    "            l.backward()"
   ]
  },
  {
   "cell_type": "code",
   "execution_count": 61,
   "id": "12ab1a37",
   "metadata": {},
   "outputs": [],
   "source": [
    "w1 = torch.randn(1, 50)\n",
    "b1 = torch.randn(50)\n",
    "w2 = torch.randn(50, 1)\n",
    "b2 = torch.randn(1)"
   ]
  },
  {
   "cell_type": "code",
   "execution_count": 62,
   "id": "01f0199e",
   "metadata": {},
   "outputs": [
    {
     "data": {
      "text/plain": [
       "(torch.Size([200, 1]), torch.Size([1000]))"
      ]
     },
     "execution_count": 62,
     "metadata": {},
     "output_type": "execute_result"
    }
   ],
   "source": [
    "x.shape, y.shape"
   ]
  },
  {
   "cell_type": "code",
   "execution_count": 66,
   "id": "2b3de68b",
   "metadata": {},
   "outputs": [],
   "source": [
    "model = Model(w1, b1, w2, b2)\n",
    "x = torch.randn(200, 1) * 5\n",
    "res = model(x, y[:200, None])\n",
    "model.backward()"
   ]
  },
  {
   "cell_type": "markdown",
   "id": "5248d99c",
   "metadata": {},
   "source": [
    "<br>**Refactor 2**"
   ]
  },
  {
   "cell_type": "code",
   "execution_count": 4,
   "id": "92e5875b",
   "metadata": {},
   "outputs": [],
   "source": [
    "class Module():\n",
    "    def __call__(self, *args):\n",
    "        self.args = args\n",
    "        self.out = self.forward(*args)\n",
    "        return self.out\n",
    "    def forward(self): raise Exception('not implemented')\n",
    "    def bwd(self): raise Exception('not implemented')\n",
    "    def backward(self): self.bwd(self.out, *self.args)"
   ]
  },
  {
   "cell_type": "code",
   "execution_count": 35,
   "id": "0ce0ceed",
   "metadata": {},
   "outputs": [],
   "source": [
    "class Lin(Module):\n",
    "    def __init__(self, w, b): self.w = w; self.b = b;\n",
    "    def forward(self, inp): return inp@self.w + self.b\n",
    "    def bwd(self, out, inp):\n",
    "        self.w.grad = inp.T @ self.out.grad\n",
    "        self.b.grad = self.out.grad.sum(dim=0)\n",
    "        inp.grad = self.out.grad @ self.w.T"
   ]
  },
  {
   "cell_type": "code",
   "execution_count": 50,
   "id": "fb5ab9aa",
   "metadata": {},
   "outputs": [],
   "source": [
    "class Relu(Module):\n",
    "    def forward(self, inp): return inp.clamp_min(0.)\n",
    "    def bwd(self, out, inp): inp.grad = (inp > 0).float() * self.out.grad"
   ]
  },
  {
   "cell_type": "code",
   "execution_count": 56,
   "id": "b63d86de",
   "metadata": {},
   "outputs": [],
   "source": [
    "class MSE(Module):\n",
    "    def forward(self, preds, target): return ((preds - target)**2).mean()\n",
    "    def bwd(self, out, inp, targ):\n",
    "        inp.grad = 1/len(inp)*2*(inp - targ)"
   ]
  },
  {
   "cell_type": "code",
   "execution_count": 80,
   "id": "4fd4e390",
   "metadata": {},
   "outputs": [],
   "source": [
    "class Model():\n",
    "    def __init__(self, w1, b1, w2, b2):\n",
    "        self.layers = [Lin(w1, b1), Relu(), Lin(w2, b2)]\n",
    "        self.loss_func = MSE()\n",
    "    def __call__(self, x, targ=None):\n",
    "        for l in self.layers:\n",
    "            x = l(x)\n",
    "        if targ != None: self.loss = self.loss_func(x, targ)\n",
    "        return x, self.loss\n",
    "    def backward(self):\n",
    "        self.loss_func.backward()\n",
    "        for l in self.layers[::-1]:\n",
    "            l.backward()"
   ]
  },
  {
   "cell_type": "code",
   "execution_count": 78,
   "id": "cf93dc6d",
   "metadata": {},
   "outputs": [
    {
     "data": {
      "text/plain": [
       "(torch.Size([1000, 1]), torch.Size([1000, 1]))"
      ]
     },
     "execution_count": 78,
     "metadata": {},
     "output_type": "execute_result"
    }
   ],
   "source": [
    "w1 = torch.randn(1, 50)\n",
    "b1 = torch.randn(50)\n",
    "w2 = torch.randn(50, 1)\n",
    "b2 = torch.randn(1)\n",
    "\n",
    "x.shape, y.shape"
   ]
  },
  {
   "cell_type": "code",
   "execution_count": 81,
   "id": "78387a87",
   "metadata": {},
   "outputs": [],
   "source": [
    "model = Model(w1, b1, w2, b2)\n",
    "res = model(x, y)\n",
    "model.backward()"
   ]
  },
  {
   "cell_type": "markdown",
   "id": "948afaa1",
   "metadata": {},
   "source": [
    "<br>**using torch.nn**"
   ]
  },
  {
   "cell_type": "code",
   "execution_count": 73,
   "id": "90fb4ef4",
   "metadata": {},
   "outputs": [],
   "source": [
    "import torch.nn as nn, torch.nn.functional as F"
   ]
  },
  {
   "cell_type": "code",
   "execution_count": 87,
   "id": "0a495228",
   "metadata": {},
   "outputs": [],
   "source": [
    "class Linear(nn.Module):\n",
    "    def __init__(self, n_in, n_out): \n",
    "        super().__init__()\n",
    "        self.w = torch.randn(n_in, n_out).requires_grad_(); self.b = torch.randn(n_out).requires_grad_();\n",
    "    def forward(self, inp): return inp@self.w + self.b"
   ]
  },
  {
   "cell_type": "code",
   "execution_count": 103,
   "id": "d208a1e0",
   "metadata": {},
   "outputs": [],
   "source": [
    "class Model():\n",
    "    def __init__(self):\n",
    "        super().__init__()\n",
    "        self.layers = [Linear(1, 50), Relu(), Linear(50, 1)]\n",
    "    def __call__(self, x, targ):\n",
    "        for l in self.layers: x = l(x)\n",
    "        return F.mse_loss(x, targ)"
   ]
  },
  {
   "cell_type": "code",
   "execution_count": 104,
   "id": "0b36af3a",
   "metadata": {},
   "outputs": [
    {
     "data": {
      "text/plain": [
       "(torch.Size([1000, 1]), torch.Size([1000, 1]))"
      ]
     },
     "execution_count": 104,
     "metadata": {},
     "output_type": "execute_result"
    }
   ],
   "source": [
    "x.shape, y.shape"
   ]
  },
  {
   "cell_type": "code",
   "execution_count": 105,
   "id": "4a8f615e",
   "metadata": {},
   "outputs": [],
   "source": [
    "model = Model()\n",
    "loss = model(x, y)\n",
    "loss.backward()"
   ]
  },
  {
   "cell_type": "code",
   "execution_count": 106,
   "id": "f4d6d906",
   "metadata": {},
   "outputs": [
    {
     "data": {
      "text/plain": [
       "tensor([[   3.122, -154.041, -188.921,   47.119,  -93.958,   87.140,   -2.335,   92.087, -133.655,\n",
       "           76.248,  -49.679,  336.974,   21.912,    0.000,  -14.866,  129.370,  135.460,  104.478,\n",
       "         -533.433,    0.000,   65.569,  169.147,   54.352,  170.821,   78.420,  111.106,  -23.742,\n",
       "           59.888, -401.476,   78.092,  -19.932,  -87.981,  -10.249,    0.000,    0.000,  107.757,\n",
       "           22.597,  -98.173,  109.576,  -58.409,  -38.605,   13.738,    0.000, -210.019,   88.675,\n",
       "         -154.275,  -46.664,  -56.900,  -15.529,    6.733]])"
      ]
     },
     "execution_count": 106,
     "metadata": {},
     "output_type": "execute_result"
    }
   ],
   "source": [
    "model.layers[0].w.grad"
   ]
  },
  {
   "cell_type": "code",
   "execution_count": null,
   "id": "28858e72",
   "metadata": {},
   "outputs": [],
   "source": []
  }
 ],
 "metadata": {
  "kernelspec": {
   "display_name": "Python 3 (ipykernel)",
   "language": "python",
   "name": "python3"
  },
  "language_info": {
   "codemirror_mode": {
    "name": "ipython",
    "version": 3
   },
   "file_extension": ".py",
   "mimetype": "text/x-python",
   "name": "python",
   "nbconvert_exporter": "python",
   "pygments_lexer": "ipython3",
   "version": "3.10.10"
  },
  "toc": {
   "base_numbering": 1,
   "nav_menu": {},
   "number_sections": true,
   "sideBar": true,
   "skip_h1_title": false,
   "title_cell": "Table of Contents",
   "title_sidebar": "Contents",
   "toc_cell": false,
   "toc_position": {},
   "toc_section_display": true,
   "toc_window_display": false
  }
 },
 "nbformat": 4,
 "nbformat_minor": 5
}
