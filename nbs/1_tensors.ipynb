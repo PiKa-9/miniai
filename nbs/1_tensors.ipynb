{
 "cells": [
  {
   "cell_type": "raw",
   "metadata": {},
   "source": [
    "---\n",
    "{}\n",
    "\n",
    "---\n",
    "\n"
   ]
  },
  {
   "cell_type": "code",
   "execution_count": 1,
   "id": "f588dd44",
   "metadata": {},
   "outputs": [],
   "source": [
    "import gzip, pickle, matplotlib as mpl, matplotlib.pyplot as plt\n",
    "from pathlib import Path\n",
    "from urllib.request import urlretrieve\n",
    "from itertools import islice\n",
    "from torch import tensor"
   ]
  },
  {
   "cell_type": "code",
   "execution_count": 5,
   "id": "070bc646",
   "metadata": {},
   "outputs": [],
   "source": [
    "mpl.rcParams['image.cmap'] = 'gray'"
   ]
  },
  {
   "cell_type": "code",
   "execution_count": 7,
   "id": "9b9f4917",
   "metadata": {},
   "outputs": [],
   "source": [
    "data_url = 'https://github.com/mnielsen/neural-networks-and-deep-learning/blob/master/data/mnist.pkl.gz?raw=true'\n",
    "path_data = Path('data/')\n",
    "path_data.mkdir(exist_ok=True)\n",
    "path_gz = path_data/'mnist.pkl.gz'"
   ]
  },
  {
   "cell_type": "code",
   "execution_count": 8,
   "id": "39213fef",
   "metadata": {},
   "outputs": [],
   "source": [
    "if not path_gz.exists(): urlretrieve(data_url, path_gz)"
   ]
  },
  {
   "cell_type": "code",
   "execution_count": 13,
   "id": "ec05ecfa",
   "metadata": {},
   "outputs": [],
   "source": [
    "with gzip.open(path_gz, mode='rb') as f:\n",
    "    (X_train, y_train), (X_valid, y_valid), _ = pickle.load(f, encoding='latin-1')"
   ]
  },
  {
   "cell_type": "code",
   "execution_count": 17,
   "id": "ea5dc91c",
   "metadata": {},
   "outputs": [
    {
     "data": {
      "text/plain": [
       "784"
      ]
     },
     "execution_count": 17,
     "metadata": {},
     "output_type": "execute_result"
    }
   ],
   "source": [
    "img = list(X_train[5])\n",
    "len(img)"
   ]
  },
  {
   "cell_type": "code",
   "execution_count": 25,
   "id": "d193b230",
   "metadata": {},
   "outputs": [],
   "source": [
    "def slice_list(l, d0):\n",
    "    it = iter(l)\n",
    "    for i in range(0, len(l), d0): yield list(islice(it, d0))"
   ]
  },
  {
   "cell_type": "code",
   "execution_count": 26,
   "id": "1ee7fdc5",
   "metadata": {},
   "outputs": [],
   "source": [
    "lst = img[200:209]"
   ]
  },
  {
   "cell_type": "code",
   "execution_count": 52,
   "id": "4ae45a87",
   "metadata": {},
   "outputs": [],
   "source": [
    "class MyTensor():\n",
    "    def __init__(self, xs): self.xs = xs\n",
    "    def __getitem__(self, idx): return self.xs[idx[0]][idx[1]]\n",
    "    def slice_xs(self, n): \n",
    "        it=iter(self.xs)\n",
    "        m = len(self.xs)//n\n",
    "        self.xs = list(iter(lambda: list(islice(it, m)), []))"
   ]
  },
  {
   "cell_type": "code",
   "execution_count": 53,
   "id": "ee8a1b22",
   "metadata": {},
   "outputs": [],
   "source": [
    "img_tens = MyTensor(img)\n",
    "img_tens.slice_xs(28)"
   ]
  },
  {
   "cell_type": "code",
   "execution_count": 54,
   "id": "82ca3ebe",
   "metadata": {},
   "outputs": [
    {
     "data": {
      "text/plain": [
       "0.984375"
      ]
     },
     "execution_count": 54,
     "metadata": {},
     "output_type": "execute_result"
    }
   ],
   "source": [
    "img_tens[(10, 10)]"
   ]
  },
  {
   "cell_type": "code",
   "execution_count": 68,
   "id": "774223a2",
   "metadata": {},
   "outputs": [
    {
     "name": "stderr",
     "output_type": "stream",
     "text": [
      "/tmp/ipykernel_550/515937519.py:1: UserWarning: To copy construct from a tensor, it is recommended to use sourceTensor.clone().detach() or sourceTensor.clone().detach().requires_grad_(True), rather than torch.tensor(sourceTensor).\n",
      "  img = tensor(img).view(-1, 28, 28)\n"
     ]
    }
   ],
   "source": [
    "img = tensor(img).view(-1, 28, 28)"
   ]
  },
  {
   "cell_type": "code",
   "execution_count": 69,
   "id": "f5f69c01",
   "metadata": {},
   "outputs": [
    {
     "data": {
      "text/plain": [
       "torch.Size([1, 28, 28])"
      ]
     },
     "execution_count": 69,
     "metadata": {},
     "output_type": "execute_result"
    }
   ],
   "source": [
    "img.shape"
   ]
  },
  {
   "cell_type": "code",
   "execution_count": 74,
   "id": "a2a9e051",
   "metadata": {},
   "outputs": [
    {
     "name": "stderr",
     "output_type": "stream",
     "text": [
      "/tmp/ipykernel_550/837984475.py:1: UserWarning: To copy construct from a tensor, it is recommended to use sourceTensor.clone().detach() or sourceTensor.clone().detach().requires_grad_(True), rather than torch.tensor(sourceTensor).\n",
      "  X_train, y_train, X_valid, y_valid = tuple(map(tensor, [X_train, y_train, X_valid, y_valid]))\n"
     ]
    }
   ],
   "source": [
    "X_train, y_train, X_valid, y_valid = tuple(map(tensor, [X_train, y_train, X_valid, y_valid]))\n",
    "X_train, X_valid = X_train.view(-1, 28, 28), X_valid.view(-1, 28, 28)"
   ]
  },
  {
   "cell_type": "code",
   "execution_count": 75,
   "id": "d7fc37b8",
   "metadata": {},
   "outputs": [
    {
     "data": {
      "text/plain": [
       "torch.Size([50000, 28, 28])"
      ]
     },
     "execution_count": 75,
     "metadata": {},
     "output_type": "execute_result"
    }
   ],
   "source": [
    "X_train.shape"
   ]
  },
  {
   "cell_type": "code",
   "execution_count": 76,
   "id": "be802191",
   "metadata": {},
   "outputs": [
    {
     "data": {
      "text/plain": [
       "<matplotlib.image.AxesImage at 0x7f31e0dfb9d0>"
      ]
     },
     "execution_count": 76,
     "metadata": {},
     "output_type": "execute_result"
    },
    {
     "data": {
      "image/png": "[encoded data removed]",
      "text/plain": [
       "<Figure size 640x480 with 1 Axes>"
      ]
     },
     "metadata": {},
     "output_type": "display_data"
    }
   ],
   "source": [
    "plt.imshow(X_train[5], )"
   ]
  },
  {
   "cell_type": "markdown",
   "id": "8be08302",
   "metadata": {},
   "source": [
    "<br><br>Random number generator"
   ]
  },
  {
   "cell_type": "code",
   "execution_count": 94,
   "id": "077c39b4",
   "metadata": {},
   "outputs": [],
   "source": [
    "rand_state = None\n",
    "def seed(a):\n",
    "    global rand_state\n",
    "    a, x = divmod(a, 30268)\n",
    "    a, y = divmod(a, 30306)\n",
    "    a, z = divmod(a, 30322)\n",
    "    rand_state = x+1, y+1, z+1"
   ]
  },
  {
   "cell_type": "code",
   "execution_count": 101,
   "id": "e2ed6ea3",
   "metadata": {},
   "outputs": [
    {
     "data": {
      "text/plain": [
       "(4976, 20238, 499)"
      ]
     },
     "execution_count": 101,
     "metadata": {},
     "output_type": "execute_result"
    }
   ],
   "source": [
    "seed(457428938475)\n",
    "rand_state"
   ]
  },
  {
   "cell_type": "code",
   "execution_count": 96,
   "id": "e1bbb76b",
   "metadata": {},
   "outputs": [],
   "source": [
    "def rand():\n",
    "    global rand_state\n",
    "    x, y, z = rand_state\n",
    "    x = (x * 171) % 30269\n",
    "    y = (y * 172) % 30307\n",
    "    z = (z * 170) % 30323\n",
    "    rand_state = x, y, z\n",
    "    return (x/30269 + y/30307 + z/30323) % 1.0"
   ]
  },
  {
   "cell_type": "code",
   "execution_count": 104,
   "id": "b39afd9b",
   "metadata": {},
   "outputs": [
    {
     "data": {
      "text/plain": [
       "0.06912886811267205"
      ]
     },
     "execution_count": 104,
     "metadata": {},
     "output_type": "execute_result"
    }
   ],
   "source": [
    "rand()"
   ]
  },
  {
   "cell_type": "code",
   "execution_count": 98,
   "id": "6aa63545",
   "metadata": {},
   "outputs": [
    {
     "data": {
      "text/plain": [
       "[<matplotlib.lines.Line2D at 0x7f30c1b81ed0>]"
      ]
     },
     "execution_count": 98,
     "metadata": {},
     "output_type": "execute_result"
    },
    {
     "data": {
      "image/png": "[encoded data removed]",
      "text/plain": [
       "<Figure size 640x480 with 1 Axes>"
      ]
     },
     "metadata": {},
     "output_type": "display_data"
    }
   ],
   "source": [
    "plt.plot([rand() for i in range(100)])"
   ]
  },
  {
   "cell_type": "code",
   "execution_count": 107,
   "id": "b8fafe86",
   "metadata": {},
   "outputs": [
    {
     "data": {
      "text/plain": [
       "(array([10088.,  9982.,  9649., 10026.,  9881.,  9946., 10210., 10238.,\n",
       "         9876., 10104.]),\n",
       " array([3.03151161e-06, 1.00002646e-01, 2.00002261e-01, 3.00001876e-01,\n",
       "        4.00001490e-01, 5.00001105e-01, 6.00000720e-01, 7.00000335e-01,\n",
       "        7.99999949e-01, 8.99999564e-01, 9.99999179e-01]),\n",
       " <BarContainer object of 10 artists>)"
      ]
     },
     "execution_count": 107,
     "metadata": {},
     "output_type": "execute_result"
    },
    {
     "data": {
      "image/png": "[encoded data removed]",
      "text/plain": [
       "<Figure size 640x480 with 1 Axes>"
      ]
     },
     "metadata": {},
     "output_type": "display_data"
    }
   ],
   "source": [
    "plt.hist([rand() for i in range(100000)])"
   ]
  },
  {
   "cell_type": "code",
   "execution_count": 42,
   "id": "d46ec50f",
   "metadata": {},
   "outputs": [
    {
     "data": {
      "text/plain": [
       "(17290, 197, 65)"
      ]
     },
     "execution_count": 42,
     "metadata": {},
     "output_type": "execute_result"
    }
   ],
   "source": [
    "rand_state"
   ]
  },
  {
   "cell_type": "code",
   "execution_count": 109,
   "id": "f2ac5386",
   "metadata": {},
   "outputs": [
    {
     "name": "stdout",
     "output_type": "stream",
     "text": [
      "3.77 ms ± 539 µs per loop (mean ± std. dev. of 7 runs, 10 loops each)\n"
     ]
    }
   ],
   "source": [
    "%timeit -n 10 [rand() for _ in range(10000)]"
   ]
  },
  {
   "cell_type": "code",
   "execution_count": 112,
   "id": "c6fc1080",
   "metadata": {},
   "outputs": [],
   "source": [
    "import torch"
   ]
  },
  {
   "cell_type": "code",
   "execution_count": 119,
   "id": "53286288",
   "metadata": {},
   "outputs": [
    {
     "name": "stdout",
     "output_type": "stream",
     "text": [
      "17.8 ms ± 932 µs per loop (mean ± std. dev. of 7 runs, 10 loops each)\n"
     ]
    }
   ],
   "source": [
    "%timeit -n 10 [torch.rand(1) for _ in range(10000)]"
   ]
  },
  {
   "cell_type": "code",
   "execution_count": 122,
   "id": "59b080d1",
   "metadata": {},
   "outputs": [
    {
     "name": "stdout",
     "output_type": "stream",
     "text": [
      "98.1 µs ± 56.2 µs per loop (mean ± std. dev. of 7 runs, 10 loops each)\n"
     ]
    }
   ],
   "source": [
    "%timeit -n 10 torch.rand(100, 100)"
   ]
  },
  {
   "cell_type": "code",
   "execution_count": 118,
   "id": "776febbe",
   "metadata": {},
   "outputs": [
    {
     "data": {
      "text/plain": [
       "tensor([0.9216])"
      ]
     },
     "execution_count": 118,
     "metadata": {},
     "output_type": "execute_result"
    }
   ],
   "source": [
    "torch.rand(1)"
   ]
  },
  {
   "cell_type": "code",
   "execution_count": null,
   "id": "9dd00826",
   "metadata": {},
   "outputs": [],
   "source": []
  }
 ],
 "metadata": {
  "kernelspec": {
   "display_name": "Python 3 (ipykernel)",
   "language": "python",
   "name": "python3"
  },
  "language_info": {
   "codemirror_mode": {
    "name": "ipython",
    "version": 3
   },
   "file_extension": ".py",
   "mimetype": "text/x-python",
   "name": "python",
   "nbconvert_exporter": "python",
   "pygments_lexer": "ipython3",
   "version": "3.10.10"
  },
  "toc": {
   "base_numbering": 1,
   "nav_menu": {},
   "number_sections": true,
   "sideBar": true,
   "skip_h1_title": false,
   "title_cell": "Table of Contents",
   "title_sidebar": "Contents",
   "toc_cell": false,
   "toc_position": {},
   "toc_section_display": true,
   "toc_window_display": false
  }
 },
 "nbformat": 4,
 "nbformat_minor": 5
}
